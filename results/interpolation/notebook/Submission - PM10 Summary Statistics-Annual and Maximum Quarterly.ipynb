{
 "cells": [
  {
   "cell_type": "code",
   "execution_count": 1,
   "metadata": {},
   "outputs": [],
   "source": [
    "import warnings\n",
    "warnings.filterwarnings(\"ignore\")"
   ]
  },
  {
   "cell_type": "code",
   "execution_count": 2,
   "metadata": {},
   "outputs": [],
   "source": [
    "import pandas as pd\n",
    "import matplotlib.pyplot as plt\n",
    "import numpy as np\n",
    "import sys\n",
    "import geopandas as gpd\n",
    "sys.path.append(\"../../../\")\n",
    "%load_ext autoreload\n",
    "%autoreload 2"
   ]
  },
  {
   "cell_type": "code",
   "execution_count": 4,
   "metadata": {},
   "outputs": [],
   "source": [
    "df = pd.read_csv(\"../dataset/pm.csv\")"
   ]
  },
  {
   "cell_type": "code",
   "execution_count": 5,
   "metadata": {},
   "outputs": [
    {
     "data": {
      "text/html": [
       "<div>\n",
       "<style scoped>\n",
       "    .dataframe tbody tr th:only-of-type {\n",
       "        vertical-align: middle;\n",
       "    }\n",
       "\n",
       "    .dataframe tbody tr th {\n",
       "        vertical-align: top;\n",
       "    }\n",
       "\n",
       "    .dataframe thead th {\n",
       "        text-align: right;\n",
       "    }\n",
       "</style>\n",
       "<table border=\"1\" class=\"dataframe\">\n",
       "  <thead>\n",
       "    <tr style=\"text-align: right;\">\n",
       "      <th></th>\n",
       "      <th>Date</th>\n",
       "      <th>Source</th>\n",
       "      <th>Site ID</th>\n",
       "      <th>POC</th>\n",
       "      <th>Daily Mean PM10 Concentration</th>\n",
       "      <th>UNITS</th>\n",
       "      <th>DAILY_AQI_VALUE</th>\n",
       "      <th>Site Name</th>\n",
       "      <th>DAILY_OBS_COUNT</th>\n",
       "      <th>PERCENT_COMPLETE</th>\n",
       "      <th>AQS_PARAMETER_CODE</th>\n",
       "      <th>AQS_PARAMETER_DESC</th>\n",
       "      <th>CBSA_CODE</th>\n",
       "      <th>CBSA_NAME</th>\n",
       "      <th>STATE_CODE</th>\n",
       "      <th>STATE</th>\n",
       "      <th>COUNTY_CODE</th>\n",
       "      <th>COUNTY</th>\n",
       "      <th>SITE_LATITUDE</th>\n",
       "      <th>SITE_LONGITUDE</th>\n",
       "    </tr>\n",
       "  </thead>\n",
       "  <tbody>\n",
       "    <tr>\n",
       "      <th>0</th>\n",
       "      <td>01/11/1990</td>\n",
       "      <td>AQS</td>\n",
       "      <td>120111003</td>\n",
       "      <td>1</td>\n",
       "      <td>45</td>\n",
       "      <td>ug/m3 SC</td>\n",
       "      <td>42</td>\n",
       "      <td>NaN</td>\n",
       "      <td>1</td>\n",
       "      <td>100.0</td>\n",
       "      <td>81102</td>\n",
       "      <td>PM10 Total 0-10um STP</td>\n",
       "      <td>33100.0</td>\n",
       "      <td>Miami-Fort Lauderdale-West Palm Beach, FL</td>\n",
       "      <td>12</td>\n",
       "      <td>Florida</td>\n",
       "      <td>11</td>\n",
       "      <td>Broward</td>\n",
       "      <td>26.129531</td>\n",
       "      <td>-80.168379</td>\n",
       "    </tr>\n",
       "    <tr>\n",
       "      <th>1</th>\n",
       "      <td>01/17/1990</td>\n",
       "      <td>AQS</td>\n",
       "      <td>120111003</td>\n",
       "      <td>1</td>\n",
       "      <td>21</td>\n",
       "      <td>ug/m3 SC</td>\n",
       "      <td>19</td>\n",
       "      <td>NaN</td>\n",
       "      <td>1</td>\n",
       "      <td>100.0</td>\n",
       "      <td>81102</td>\n",
       "      <td>PM10 Total 0-10um STP</td>\n",
       "      <td>33100.0</td>\n",
       "      <td>Miami-Fort Lauderdale-West Palm Beach, FL</td>\n",
       "      <td>12</td>\n",
       "      <td>Florida</td>\n",
       "      <td>11</td>\n",
       "      <td>Broward</td>\n",
       "      <td>26.129531</td>\n",
       "      <td>-80.168379</td>\n",
       "    </tr>\n",
       "    <tr>\n",
       "      <th>2</th>\n",
       "      <td>01/23/1990</td>\n",
       "      <td>AQS</td>\n",
       "      <td>120111003</td>\n",
       "      <td>1</td>\n",
       "      <td>26</td>\n",
       "      <td>ug/m3 SC</td>\n",
       "      <td>24</td>\n",
       "      <td>NaN</td>\n",
       "      <td>1</td>\n",
       "      <td>100.0</td>\n",
       "      <td>81102</td>\n",
       "      <td>PM10 Total 0-10um STP</td>\n",
       "      <td>33100.0</td>\n",
       "      <td>Miami-Fort Lauderdale-West Palm Beach, FL</td>\n",
       "      <td>12</td>\n",
       "      <td>Florida</td>\n",
       "      <td>11</td>\n",
       "      <td>Broward</td>\n",
       "      <td>26.129531</td>\n",
       "      <td>-80.168379</td>\n",
       "    </tr>\n",
       "    <tr>\n",
       "      <th>3</th>\n",
       "      <td>01/29/1990</td>\n",
       "      <td>AQS</td>\n",
       "      <td>120111003</td>\n",
       "      <td>1</td>\n",
       "      <td>26</td>\n",
       "      <td>ug/m3 SC</td>\n",
       "      <td>24</td>\n",
       "      <td>NaN</td>\n",
       "      <td>1</td>\n",
       "      <td>100.0</td>\n",
       "      <td>81102</td>\n",
       "      <td>PM10 Total 0-10um STP</td>\n",
       "      <td>33100.0</td>\n",
       "      <td>Miami-Fort Lauderdale-West Palm Beach, FL</td>\n",
       "      <td>12</td>\n",
       "      <td>Florida</td>\n",
       "      <td>11</td>\n",
       "      <td>Broward</td>\n",
       "      <td>26.129531</td>\n",
       "      <td>-80.168379</td>\n",
       "    </tr>\n",
       "    <tr>\n",
       "      <th>4</th>\n",
       "      <td>02/04/1990</td>\n",
       "      <td>AQS</td>\n",
       "      <td>120111003</td>\n",
       "      <td>1</td>\n",
       "      <td>19</td>\n",
       "      <td>ug/m3 SC</td>\n",
       "      <td>18</td>\n",
       "      <td>NaN</td>\n",
       "      <td>1</td>\n",
       "      <td>100.0</td>\n",
       "      <td>81102</td>\n",
       "      <td>PM10 Total 0-10um STP</td>\n",
       "      <td>33100.0</td>\n",
       "      <td>Miami-Fort Lauderdale-West Palm Beach, FL</td>\n",
       "      <td>12</td>\n",
       "      <td>Florida</td>\n",
       "      <td>11</td>\n",
       "      <td>Broward</td>\n",
       "      <td>26.129531</td>\n",
       "      <td>-80.168379</td>\n",
       "    </tr>\n",
       "  </tbody>\n",
       "</table>\n",
       "</div>"
      ],
      "text/plain": [
       "         Date Source    Site ID  POC  Daily Mean PM10 Concentration     UNITS  \\\n",
       "0  01/11/1990    AQS  120111003    1                             45  ug/m3 SC   \n",
       "1  01/17/1990    AQS  120111003    1                             21  ug/m3 SC   \n",
       "2  01/23/1990    AQS  120111003    1                             26  ug/m3 SC   \n",
       "3  01/29/1990    AQS  120111003    1                             26  ug/m3 SC   \n",
       "4  02/04/1990    AQS  120111003    1                             19  ug/m3 SC   \n",
       "\n",
       "   DAILY_AQI_VALUE Site Name  DAILY_OBS_COUNT  PERCENT_COMPLETE  \\\n",
       "0               42       NaN                1             100.0   \n",
       "1               19       NaN                1             100.0   \n",
       "2               24       NaN                1             100.0   \n",
       "3               24       NaN                1             100.0   \n",
       "4               18       NaN                1             100.0   \n",
       "\n",
       "   AQS_PARAMETER_CODE     AQS_PARAMETER_DESC  CBSA_CODE  \\\n",
       "0               81102  PM10 Total 0-10um STP    33100.0   \n",
       "1               81102  PM10 Total 0-10um STP    33100.0   \n",
       "2               81102  PM10 Total 0-10um STP    33100.0   \n",
       "3               81102  PM10 Total 0-10um STP    33100.0   \n",
       "4               81102  PM10 Total 0-10um STP    33100.0   \n",
       "\n",
       "                                   CBSA_NAME  STATE_CODE    STATE  \\\n",
       "0  Miami-Fort Lauderdale-West Palm Beach, FL          12  Florida   \n",
       "1  Miami-Fort Lauderdale-West Palm Beach, FL          12  Florida   \n",
       "2  Miami-Fort Lauderdale-West Palm Beach, FL          12  Florida   \n",
       "3  Miami-Fort Lauderdale-West Palm Beach, FL          12  Florida   \n",
       "4  Miami-Fort Lauderdale-West Palm Beach, FL          12  Florida   \n",
       "\n",
       "   COUNTY_CODE   COUNTY  SITE_LATITUDE  SITE_LONGITUDE  \n",
       "0           11  Broward      26.129531      -80.168379  \n",
       "1           11  Broward      26.129531      -80.168379  \n",
       "2           11  Broward      26.129531      -80.168379  \n",
       "3           11  Broward      26.129531      -80.168379  \n",
       "4           11  Broward      26.129531      -80.168379  "
      ]
     },
     "execution_count": 5,
     "metadata": {},
     "output_type": "execute_result"
    }
   ],
   "source": [
    "df.head()"
   ]
  },
  {
   "cell_type": "code",
   "execution_count": 6,
   "metadata": {},
   "outputs": [],
   "source": [
    "centroids = np.load(\"USA_Centroids.npy\")"
   ]
  },
  {
   "cell_type": "code",
   "execution_count": 7,
   "metadata": {},
   "outputs": [],
   "source": [
    "tdf = df.drop(columns=[ 'Source', \n",
    "       'UNITS', 'DAILY_AQI_VALUE', 'Site Name', 'DAILY_OBS_COUNT',\n",
    "        'AQS_PARAMETER_CODE', 'AQS_PARAMETER_DESC',\n",
    "        'CBSA_CODE','CBSA_NAME', 'POC'\n",
    "                ])"
   ]
  },
  {
   "cell_type": "code",
   "execution_count": 8,
   "metadata": {},
   "outputs": [
    {
     "data": {
      "text/html": [
       "<div>\n",
       "<style scoped>\n",
       "    .dataframe tbody tr th:only-of-type {\n",
       "        vertical-align: middle;\n",
       "    }\n",
       "\n",
       "    .dataframe tbody tr th {\n",
       "        vertical-align: top;\n",
       "    }\n",
       "\n",
       "    .dataframe thead th {\n",
       "        text-align: right;\n",
       "    }\n",
       "</style>\n",
       "<table border=\"1\" class=\"dataframe\">\n",
       "  <thead>\n",
       "    <tr style=\"text-align: right;\">\n",
       "      <th></th>\n",
       "      <th>Date</th>\n",
       "      <th>Site ID</th>\n",
       "      <th>Daily Mean PM10 Concentration</th>\n",
       "      <th>PERCENT_COMPLETE</th>\n",
       "      <th>STATE_CODE</th>\n",
       "      <th>STATE</th>\n",
       "      <th>COUNTY_CODE</th>\n",
       "      <th>COUNTY</th>\n",
       "      <th>SITE_LATITUDE</th>\n",
       "      <th>SITE_LONGITUDE</th>\n",
       "    </tr>\n",
       "  </thead>\n",
       "  <tbody>\n",
       "    <tr>\n",
       "      <th>0</th>\n",
       "      <td>01/11/1990</td>\n",
       "      <td>120111003</td>\n",
       "      <td>45</td>\n",
       "      <td>100.0</td>\n",
       "      <td>12</td>\n",
       "      <td>Florida</td>\n",
       "      <td>11</td>\n",
       "      <td>Broward</td>\n",
       "      <td>26.129531</td>\n",
       "      <td>-80.168379</td>\n",
       "    </tr>\n",
       "    <tr>\n",
       "      <th>1</th>\n",
       "      <td>01/17/1990</td>\n",
       "      <td>120111003</td>\n",
       "      <td>21</td>\n",
       "      <td>100.0</td>\n",
       "      <td>12</td>\n",
       "      <td>Florida</td>\n",
       "      <td>11</td>\n",
       "      <td>Broward</td>\n",
       "      <td>26.129531</td>\n",
       "      <td>-80.168379</td>\n",
       "    </tr>\n",
       "    <tr>\n",
       "      <th>2</th>\n",
       "      <td>01/23/1990</td>\n",
       "      <td>120111003</td>\n",
       "      <td>26</td>\n",
       "      <td>100.0</td>\n",
       "      <td>12</td>\n",
       "      <td>Florida</td>\n",
       "      <td>11</td>\n",
       "      <td>Broward</td>\n",
       "      <td>26.129531</td>\n",
       "      <td>-80.168379</td>\n",
       "    </tr>\n",
       "    <tr>\n",
       "      <th>3</th>\n",
       "      <td>01/29/1990</td>\n",
       "      <td>120111003</td>\n",
       "      <td>26</td>\n",
       "      <td>100.0</td>\n",
       "      <td>12</td>\n",
       "      <td>Florida</td>\n",
       "      <td>11</td>\n",
       "      <td>Broward</td>\n",
       "      <td>26.129531</td>\n",
       "      <td>-80.168379</td>\n",
       "    </tr>\n",
       "    <tr>\n",
       "      <th>4</th>\n",
       "      <td>02/04/1990</td>\n",
       "      <td>120111003</td>\n",
       "      <td>19</td>\n",
       "      <td>100.0</td>\n",
       "      <td>12</td>\n",
       "      <td>Florida</td>\n",
       "      <td>11</td>\n",
       "      <td>Broward</td>\n",
       "      <td>26.129531</td>\n",
       "      <td>-80.168379</td>\n",
       "    </tr>\n",
       "  </tbody>\n",
       "</table>\n",
       "</div>"
      ],
      "text/plain": [
       "         Date    Site ID  Daily Mean PM10 Concentration  PERCENT_COMPLETE  \\\n",
       "0  01/11/1990  120111003                             45             100.0   \n",
       "1  01/17/1990  120111003                             21             100.0   \n",
       "2  01/23/1990  120111003                             26             100.0   \n",
       "3  01/29/1990  120111003                             26             100.0   \n",
       "4  02/04/1990  120111003                             19             100.0   \n",
       "\n",
       "   STATE_CODE    STATE  COUNTY_CODE   COUNTY  SITE_LATITUDE  SITE_LONGITUDE  \n",
       "0          12  Florida           11  Broward      26.129531      -80.168379  \n",
       "1          12  Florida           11  Broward      26.129531      -80.168379  \n",
       "2          12  Florida           11  Broward      26.129531      -80.168379  \n",
       "3          12  Florida           11  Broward      26.129531      -80.168379  \n",
       "4          12  Florida           11  Broward      26.129531      -80.168379  "
      ]
     },
     "execution_count": 8,
     "metadata": {},
     "output_type": "execute_result"
    }
   ],
   "source": [
    "tdf.head()"
   ]
  },
  {
   "cell_type": "code",
   "execution_count": 9,
   "metadata": {},
   "outputs": [
    {
     "data": {
      "image/png": "[encoded data removed]",
      "text/plain": [
       "<Figure size 432x288 with 1 Axes>"
      ]
     },
     "metadata": {
      "needs_background": "light"
     },
     "output_type": "display_data"
    }
   ],
   "source": [
    "tdf = tdf[tdf['STATE']!='Hawaii']\n",
    "tdf = tdf[tdf['STATE']!='Alaska']\n",
    "\n",
    "plt.scatter(tdf['SITE_LONGITUDE'].unique(), tdf['SITE_LATITUDE'].unique(), s = 1)\n",
    "plt.show()"
   ]
  },
  {
   "cell_type": "code",
   "execution_count": 10,
   "metadata": {},
   "outputs": [
    {
     "data": {
      "image/png": "[encoded data removed]",
      "text/plain": [
       "<Figure size 432x288 with 1 Axes>"
      ]
     },
     "metadata": {
      "needs_background": "light"
     },
     "output_type": "display_data"
    }
   ],
   "source": [
    "t1 = pd.concat([tdf[tdf['SITE_LONGITUDE']<-104.01], tdf[tdf['SITE_LONGITUDE']>-99.42]])\n",
    "t1 = t1[t1['STATE']!='New Mexico']\n",
    "# t1 = t1[t1['STATE']!='Arizona']\n",
    "plt.scatter(t1['SITE_LONGITUDE'].unique(), t1['SITE_LATITUDE'].unique(), s = 1)\n",
    "plt.show()"
   ]
  },
  {
   "cell_type": "code",
   "execution_count": 11,
   "metadata": {},
   "outputs": [],
   "source": [
    "t2 = t1.copy()"
   ]
  },
  {
   "cell_type": "code",
   "execution_count": 12,
   "metadata": {},
   "outputs": [],
   "source": [
    "states = t1['STATE'].unique()\n",
    "nw = ['Washington', 'Oregon', 'Wyoming','Idaho', 'Montana', 'Colorado','Utah','Nevada']\n",
    "sc = ['California']\n",
    "mw = ['West Virginia', 'Illinois', 'Indiana', 'Iowa', 'Kansas', 'Michigan', 'Minnesota', 'Missouri', 'Nebraska', 'North Dakota', 'Ohio', 'South Dakota', 'Wisconsin']\n",
    "se = ['Oklahoma','Florida', 'Alabama', 'Georgia',  'Tennessee', 'South Carolina', 'North Carolina', 'Virginia', 'Louisiana', 'Arkansas', 'Texas', 'Kentucky']\n",
    "ne = ['Connecticut',\n",
    " 'Delaware',\n",
    " 'Maine',\n",
    " 'Maryland',\n",
    " 'Massachusetts',\n",
    " 'New Hampshire',\n",
    " 'New Jersey',\n",
    " 'New York',\n",
    " 'Pennsylvania',\n",
    " 'Rhode Island',\n",
    " 'Vermont','District Of Columbia'\n",
    "]\n"
   ]
  },
  {
   "cell_type": "code",
   "execution_count": 13,
   "metadata": {},
   "outputs": [],
   "source": [
    "nwdf = t1[np.isin(t1['STATE'], nw)]\n",
    "mwdf = t1[np.isin(t1['STATE'], mw)]\n",
    "sedf = t1[np.isin(t1['STATE'], se)]\n",
    "nedf = t1[np.isin(t1['STATE'], ne)]\n",
    "cal = t1[np.isin(t1['STATE'], ['California'])]\n",
    "ncal = cal[cal['SITE_LATITUDE']>=34.81]\n",
    "scal = cal[cal['SITE_LATITUDE']<34.81]\n",
    "# nwdf = pd.concat([nwdf, t1[t1[np.isin(t1['STATE'], ['California'])]]['SITE_LATITUDE']>34.81])\n",
    "\n",
    "nwdf = pd.concat([nwdf, ncal])"
   ]
  },
  {
   "cell_type": "markdown",
   "metadata": {},
   "source": [
    "## DATA VALIDATION\n",
    "\n"
   ]
  },
  {
   "cell_type": "code",
   "execution_count": 14,
   "metadata": {},
   "outputs": [],
   "source": [
    "def func_select_11(df):\n",
    "    t = df.groupby(['Date', 'Site ID', 'STATE', 'COUNTY_CODE','COUNTY']).mean()\n",
    "    t = t.reset_index(None)\n",
    "    t1 = t.groupby('Site ID').count()\n",
    "    t11 = t.set_index(['Site ID'])\n",
    "    t11 = t11[t1['Date']>11]\n",
    "    t11 = t11.reset_index(None)\n",
    "    return t11"
   ]
  },
  {
   "cell_type": "code",
   "execution_count": 15,
   "metadata": {},
   "outputs": [],
   "source": [
    "mwq1 = mwdf[mwdf['Date']<='03/31/1990']\n",
    "mwq2 = mwdf[(mwdf['Date']>='04/01/1990').values & (mwdf['Date']<='06/30/1990').values]\n",
    "mwq3 = mwdf[(mwdf['Date']>='07/01/1990').values & (mwdf['Date']<='09/30/1990').values]\n",
    "mwq4 = mwdf[(mwdf['Date']>='10/01/1990').values & (mwdf['Date']<='12/31/1990').values]"
   ]
  },
  {
   "cell_type": "code",
   "execution_count": 16,
   "metadata": {},
   "outputs": [
    {
     "data": {
      "text/html": [
       "<div>\n",
       "<style scoped>\n",
       "    .dataframe tbody tr th:only-of-type {\n",
       "        vertical-align: middle;\n",
       "    }\n",
       "\n",
       "    .dataframe tbody tr th {\n",
       "        vertical-align: top;\n",
       "    }\n",
       "\n",
       "    .dataframe thead th {\n",
       "        text-align: right;\n",
       "    }\n",
       "</style>\n",
       "<table border=\"1\" class=\"dataframe\">\n",
       "  <thead>\n",
       "    <tr style=\"text-align: right;\">\n",
       "      <th></th>\n",
       "      <th>Daily Mean PM10 Concentration</th>\n",
       "      <th>PERCENT_COMPLETE</th>\n",
       "      <th>STATE_CODE</th>\n",
       "      <th>COUNTY_CODE</th>\n",
       "      <th>SITE_LATITUDE</th>\n",
       "      <th>SITE_LONGITUDE</th>\n",
       "    </tr>\n",
       "    <tr>\n",
       "      <th>Site ID</th>\n",
       "      <th></th>\n",
       "      <th></th>\n",
       "      <th></th>\n",
       "      <th></th>\n",
       "      <th></th>\n",
       "      <th></th>\n",
       "    </tr>\n",
       "  </thead>\n",
       "  <tbody>\n",
       "    <tr>\n",
       "      <th>170010006</th>\n",
       "      <td>26.850000</td>\n",
       "      <td>100.0</td>\n",
       "      <td>17.0</td>\n",
       "      <td>1.0</td>\n",
       "      <td>39.933010</td>\n",
       "      <td>-91.404237</td>\n",
       "    </tr>\n",
       "    <tr>\n",
       "      <th>170190005</th>\n",
       "      <td>28.381818</td>\n",
       "      <td>100.0</td>\n",
       "      <td>17.0</td>\n",
       "      <td>19.0</td>\n",
       "      <td>40.121976</td>\n",
       "      <td>-88.243383</td>\n",
       "    </tr>\n",
       "    <tr>\n",
       "      <th>170290001</th>\n",
       "      <td>23.943396</td>\n",
       "      <td>100.0</td>\n",
       "      <td>17.0</td>\n",
       "      <td>29.0</td>\n",
       "      <td>39.490591</td>\n",
       "      <td>-88.162262</td>\n",
       "    </tr>\n",
       "    <tr>\n",
       "      <th>170310014</th>\n",
       "      <td>39.017544</td>\n",
       "      <td>100.0</td>\n",
       "      <td>17.0</td>\n",
       "      <td>31.0</td>\n",
       "      <td>41.834276</td>\n",
       "      <td>-87.623851</td>\n",
       "    </tr>\n",
       "    <tr>\n",
       "      <th>170310022</th>\n",
       "      <td>37.412308</td>\n",
       "      <td>100.0</td>\n",
       "      <td>17.0</td>\n",
       "      <td>31.0</td>\n",
       "      <td>41.687165</td>\n",
       "      <td>-87.539315</td>\n",
       "    </tr>\n",
       "    <tr>\n",
       "      <th>...</th>\n",
       "      <td>...</td>\n",
       "      <td>...</td>\n",
       "      <td>...</td>\n",
       "      <td>...</td>\n",
       "      <td>...</td>\n",
       "      <td>...</td>\n",
       "    </tr>\n",
       "    <tr>\n",
       "      <th>550790064</th>\n",
       "      <td>34.054545</td>\n",
       "      <td>100.0</td>\n",
       "      <td>55.0</td>\n",
       "      <td>79.0</td>\n",
       "      <td>43.016958</td>\n",
       "      <td>-87.918141</td>\n",
       "    </tr>\n",
       "    <tr>\n",
       "      <th>551230008</th>\n",
       "      <td>18.622951</td>\n",
       "      <td>100.0</td>\n",
       "      <td>55.0</td>\n",
       "      <td>123.0</td>\n",
       "      <td>43.702220</td>\n",
       "      <td>-90.568300</td>\n",
       "    </tr>\n",
       "    <tr>\n",
       "      <th>551310008</th>\n",
       "      <td>21.206897</td>\n",
       "      <td>100.0</td>\n",
       "      <td>55.0</td>\n",
       "      <td>131.0</td>\n",
       "      <td>43.318058</td>\n",
       "      <td>-88.321763</td>\n",
       "    </tr>\n",
       "    <tr>\n",
       "      <th>551330018</th>\n",
       "      <td>33.466368</td>\n",
       "      <td>100.0</td>\n",
       "      <td>55.0</td>\n",
       "      <td>133.0</td>\n",
       "      <td>43.018901</td>\n",
       "      <td>-88.219814</td>\n",
       "    </tr>\n",
       "    <tr>\n",
       "      <th>551330027</th>\n",
       "      <td>34.541667</td>\n",
       "      <td>100.0</td>\n",
       "      <td>55.0</td>\n",
       "      <td>133.0</td>\n",
       "      <td>43.020075</td>\n",
       "      <td>-88.215070</td>\n",
       "    </tr>\n",
       "  </tbody>\n",
       "</table>\n",
       "<p>303 rows × 6 columns</p>\n",
       "</div>"
      ],
      "text/plain": [
       "           Daily Mean PM10 Concentration  PERCENT_COMPLETE  STATE_CODE  \\\n",
       "Site ID                                                                  \n",
       "170010006                      26.850000             100.0        17.0   \n",
       "170190005                      28.381818             100.0        17.0   \n",
       "170290001                      23.943396             100.0        17.0   \n",
       "170310014                      39.017544             100.0        17.0   \n",
       "170310022                      37.412308             100.0        17.0   \n",
       "...                                  ...               ...         ...   \n",
       "550790064                      34.054545             100.0        55.0   \n",
       "551230008                      18.622951             100.0        55.0   \n",
       "551310008                      21.206897             100.0        55.0   \n",
       "551330018                      33.466368             100.0        55.0   \n",
       "551330027                      34.541667             100.0        55.0   \n",
       "\n",
       "           COUNTY_CODE  SITE_LATITUDE  SITE_LONGITUDE  \n",
       "Site ID                                                \n",
       "170010006          1.0      39.933010      -91.404237  \n",
       "170190005         19.0      40.121976      -88.243383  \n",
       "170290001         29.0      39.490591      -88.162262  \n",
       "170310014         31.0      41.834276      -87.623851  \n",
       "170310022         31.0      41.687165      -87.539315  \n",
       "...                ...            ...             ...  \n",
       "550790064         79.0      43.016958      -87.918141  \n",
       "551230008        123.0      43.702220      -90.568300  \n",
       "551310008        131.0      43.318058      -88.321763  \n",
       "551330018        133.0      43.018901      -88.219814  \n",
       "551330027        133.0      43.020075      -88.215070  \n",
       "\n",
       "[303 rows x 6 columns]"
      ]
     },
     "execution_count": 16,
     "metadata": {},
     "output_type": "execute_result"
    }
   ],
   "source": [
    "mwdf.groupby('Site ID').mean()"
   ]
  },
  {
   "cell_type": "markdown",
   "metadata": {},
   "source": [
    "## Annual Interpolations First\n",
    "\n",
    "## Kriging, done per region; others using the earlier setting."
   ]
  },
  {
   "cell_type": "code",
   "execution_count": 17,
   "metadata": {},
   "outputs": [],
   "source": [
    "t1 = t1.groupby('Site ID').mean()\n",
    "t1 = t1.reset_index()"
   ]
  },
  {
   "cell_type": "code",
   "execution_count": 18,
   "metadata": {},
   "outputs": [],
   "source": [
    "X = t1[['SITE_LONGITUDE', 'SITE_LATITUDE']].values\n",
    "y = t1[['Daily Mean PM10 Concentration']].values"
   ]
  },
  {
   "cell_type": "code",
   "execution_count": 19,
   "metadata": {},
   "outputs": [
    {
     "data": {
      "text/html": [
       "<div>\n",
       "<style scoped>\n",
       "    .dataframe tbody tr th:only-of-type {\n",
       "        vertical-align: middle;\n",
       "    }\n",
       "\n",
       "    .dataframe tbody tr th {\n",
       "        vertical-align: top;\n",
       "    }\n",
       "\n",
       "    .dataframe thead th {\n",
       "        text-align: right;\n",
       "    }\n",
       "</style>\n",
       "<table border=\"1\" class=\"dataframe\">\n",
       "  <thead>\n",
       "    <tr style=\"text-align: right;\">\n",
       "      <th></th>\n",
       "      <th>Site ID</th>\n",
       "      <th>Daily Mean PM10 Concentration</th>\n",
       "      <th>PERCENT_COMPLETE</th>\n",
       "      <th>STATE_CODE</th>\n",
       "      <th>COUNTY_CODE</th>\n",
       "      <th>SITE_LATITUDE</th>\n",
       "      <th>SITE_LONGITUDE</th>\n",
       "    </tr>\n",
       "  </thead>\n",
       "  <tbody>\n",
       "    <tr>\n",
       "      <th>count</th>\n",
       "      <td>1.274000e+03</td>\n",
       "      <td>1274.000000</td>\n",
       "      <td>1274.0</td>\n",
       "      <td>1274.000000</td>\n",
       "      <td>1274.000000</td>\n",
       "      <td>1274.000000</td>\n",
       "      <td>1274.000000</td>\n",
       "    </tr>\n",
       "    <tr>\n",
       "      <th>mean</th>\n",
       "      <td>2.656871e+08</td>\n",
       "      <td>28.943658</td>\n",
       "      <td>100.0</td>\n",
       "      <td>26.490581</td>\n",
       "      <td>78.054160</td>\n",
       "      <td>39.630435</td>\n",
       "      <td>-93.767838</td>\n",
       "    </tr>\n",
       "    <tr>\n",
       "      <th>std</th>\n",
       "      <td>1.580209e+08</td>\n",
       "      <td>11.524225</td>\n",
       "      <td>0.0</td>\n",
       "      <td>15.781013</td>\n",
       "      <td>103.015345</td>\n",
       "      <td>4.581312</td>\n",
       "      <td>16.893547</td>\n",
       "    </tr>\n",
       "    <tr>\n",
       "      <th>min</th>\n",
       "      <td>1.015000e+07</td>\n",
       "      <td>3.333333</td>\n",
       "      <td>100.0</td>\n",
       "      <td>1.000000</td>\n",
       "      <td>1.000000</td>\n",
       "      <td>25.794222</td>\n",
       "      <td>-124.162100</td>\n",
       "    </tr>\n",
       "    <tr>\n",
       "      <th>25%</th>\n",
       "      <td>1.000323e+08</td>\n",
       "      <td>22.391667</td>\n",
       "      <td>100.0</td>\n",
       "      <td>10.000000</td>\n",
       "      <td>19.500000</td>\n",
       "      <td>36.558985</td>\n",
       "      <td>-110.833607</td>\n",
       "    </tr>\n",
       "    <tr>\n",
       "      <th>50%</th>\n",
       "      <td>2.703702e+08</td>\n",
       "      <td>27.299806</td>\n",
       "      <td>100.0</td>\n",
       "      <td>27.000000</td>\n",
       "      <td>55.000000</td>\n",
       "      <td>40.069049</td>\n",
       "      <td>-88.133548</td>\n",
       "    </tr>\n",
       "    <tr>\n",
       "      <th>75%</th>\n",
       "      <td>3.914200e+08</td>\n",
       "      <td>33.634208</td>\n",
       "      <td>100.0</td>\n",
       "      <td>39.000000</td>\n",
       "      <td>98.500000</td>\n",
       "      <td>42.638166</td>\n",
       "      <td>-79.992582</td>\n",
       "    </tr>\n",
       "    <tr>\n",
       "      <th>max</th>\n",
       "      <td>5.603900e+08</td>\n",
       "      <td>144.666667</td>\n",
       "      <td>100.0</td>\n",
       "      <td>56.000000</td>\n",
       "      <td>840.000000</td>\n",
       "      <td>48.879323</td>\n",
       "      <td>-67.396792</td>\n",
       "    </tr>\n",
       "  </tbody>\n",
       "</table>\n",
       "</div>"
      ],
      "text/plain": [
       "            Site ID  Daily Mean PM10 Concentration  PERCENT_COMPLETE  \\\n",
       "count  1.274000e+03                    1274.000000            1274.0   \n",
       "mean   2.656871e+08                      28.943658             100.0   \n",
       "std    1.580209e+08                      11.524225               0.0   \n",
       "min    1.015000e+07                       3.333333             100.0   \n",
       "25%    1.000323e+08                      22.391667             100.0   \n",
       "50%    2.703702e+08                      27.299806             100.0   \n",
       "75%    3.914200e+08                      33.634208             100.0   \n",
       "max    5.603900e+08                     144.666667             100.0   \n",
       "\n",
       "        STATE_CODE  COUNTY_CODE  SITE_LATITUDE  SITE_LONGITUDE  \n",
       "count  1274.000000  1274.000000    1274.000000     1274.000000  \n",
       "mean     26.490581    78.054160      39.630435      -93.767838  \n",
       "std      15.781013   103.015345       4.581312       16.893547  \n",
       "min       1.000000     1.000000      25.794222     -124.162100  \n",
       "25%      10.000000    19.500000      36.558985     -110.833607  \n",
       "50%      27.000000    55.000000      40.069049      -88.133548  \n",
       "75%      39.000000    98.500000      42.638166      -79.992582  \n",
       "max      56.000000   840.000000      48.879323      -67.396792  "
      ]
     },
     "execution_count": 19,
     "metadata": {},
     "output_type": "execute_result"
    }
   ],
   "source": [
    "t1.describe()"
   ]
  },
  {
   "cell_type": "markdown",
   "metadata": {},
   "source": [
    "### Spatial Interpolation"
   ]
  },
  {
   "cell_type": "code",
   "execution_count": 20,
   "metadata": {},
   "outputs": [
    {
     "data": {
      "text/plain": [
       "SpatialAverage"
      ]
     },
     "execution_count": 20,
     "metadata": {},
     "output_type": "execute_result"
    }
   ],
   "source": [
    "from polire.interpolate import SpatialAverage\n",
    "spatial = SpatialAverage(coordinate_type='Geographic', radius=16.1)\n",
    "spatial.fit(X, y)"
   ]
  },
  {
   "cell_type": "code",
   "execution_count": 22,
   "metadata": {},
   "outputs": [],
   "source": [
    "spatial_predictions = np.zeros(centroids.shape[0])\n",
    "\n",
    "for ix in np.arange(0, centroids.shape[0], 1000):\n",
    "    \n",
    "    if centroids.shape[0] - ix >= 1000: \n",
    "        spatial_predictions[ix: ix + 1000] = spatial.predict(centroids[ix:ix + 1000]).squeeze()\n",
    "    \n",
    "    else: \n",
    "        spatial_predictions[ix: ] = spatial.predict(centroids[ix:])"
   ]
  },
  {
   "cell_type": "code",
   "execution_count": 23,
   "metadata": {},
   "outputs": [],
   "source": [
    "spatial_predictions = spatial_predictions[~np.isnan(spatial_predictions)]"
   ]
  },
  {
   "cell_type": "code",
   "execution_count": 24,
   "metadata": {},
   "outputs": [],
   "source": [
    "def summary_stats(x):\n",
    "    print(\"Mean\", x.mean())\n",
    "    print(\"25 Percentile\", np.percentile(x, 25))\n",
    "    print(\"50th %ile/ Median\", np.percentile(x, 50))\n",
    "    print(\"75th %ile\", np.percentile(x, 75))"
   ]
  },
  {
   "cell_type": "code",
   "execution_count": 25,
   "metadata": {},
   "outputs": [
    {
     "name": "stdout",
     "output_type": "stream",
     "text": [
      "Mean 31.944817115560397\n",
      "25 Percentile 25.83343074225599\n",
      "50th %ile/ Median 30.178879310344826\n",
      "75th %ile 34.73306451612903\n"
     ]
    }
   ],
   "source": [
    "summary_stats(spatial_predictions)"
   ]
  },
  {
   "cell_type": "markdown",
   "metadata": {},
   "source": [
    "### IDW"
   ]
  },
  {
   "cell_type": "code",
   "execution_count": 26,
   "metadata": {},
   "outputs": [],
   "source": [
    "from polire.interpolate import Idw\n",
    "from polire.utils.distance import haversine, euclidean\n",
    "idw = Idw(coordinate_type='Geographic')\n",
    "idw.fit(X, y)\n",
    "\n",
    "idw_predictions = np.zeros(centroids.shape[0])\n",
    "for ix, data_point in enumerate(centroids):\n",
    "    distances = haversine(data_point, X)\n",
    "    mask = distances <= 250\n",
    "    X_train = X[mask]\n",
    "    y_train = y[mask]\n",
    "    idw_predictions[ix] = idw.predict(data_point.reshape(1, 2))"
   ]
  },
  {
   "cell_type": "markdown",
   "metadata": {},
   "source": [
    "# $k$-NN\n"
   ]
  },
  {
   "cell_type": "code",
   "execution_count": 27,
   "metadata": {},
   "outputs": [],
   "source": [
    "from polire.custom import CustomInterpolator\n",
    "from sklearn.neighbors import KNeighborsRegressor\n",
    "knn = CustomInterpolator(KNeighborsRegressor, reg_kwargs={'n_neighbors':1})\n",
    "knn.fit(X, y)\n",
    "knn_predictions = knn.predict(centroids)"
   ]
  },
  {
   "cell_type": "code",
   "execution_count": 28,
   "metadata": {},
   "outputs": [
    {
     "name": "stdout",
     "output_type": "stream",
     "text": [
      "KNN\n",
      "Mean 30.33785471228087\n",
      "25 Percentile 24.50877192982456\n",
      "50th %ile/ Median 28.274509803921568\n",
      "75th %ile 34.074074074074076\n"
     ]
    }
   ],
   "source": [
    "print(\"KNN\")\n",
    "summary_stats(knn_predictions)"
   ]
  },
  {
   "cell_type": "code",
   "execution_count": 29,
   "metadata": {},
   "outputs": [
    {
     "name": "stdout",
     "output_type": "stream",
     "text": [
      "Spatial Averaging\n",
      "Mean 31.944817115560397\n",
      "25 Percentile 25.83343074225599\n",
      "50th %ile/ Median 30.178879310344826\n",
      "75th %ile 34.73306451612903\n"
     ]
    }
   ],
   "source": [
    "print(\"Spatial Averaging\")\n",
    "summary_stats(spatial_predictions)"
   ]
  },
  {
   "cell_type": "code",
   "execution_count": 30,
   "metadata": {},
   "outputs": [
    {
     "name": "stdout",
     "output_type": "stream",
     "text": [
      "IDW\n",
      "Mean 30.818663163101153\n",
      "25 Percentile 26.915438909016355\n",
      "50th %ile/ Median 29.427777862088966\n",
      "75th %ile 32.4221701027831\n"
     ]
    }
   ],
   "source": [
    "print(\"IDW\")\n",
    "summary_stats(idw_predictions)"
   ]
  },
  {
   "cell_type": "markdown",
   "metadata": {},
   "source": [
    "## PER QUARTER AND KRIGING LEFT"
   ]
  },
  {
   "cell_type": "markdown",
   "metadata": {},
   "source": [
    "## Per Quarter"
   ]
  },
  {
   "cell_type": "markdown",
   "metadata": {},
   "source": [
    "# Q1"
   ]
  },
  {
   "cell_type": "code",
   "execution_count": 31,
   "metadata": {},
   "outputs": [
    {
     "data": {
      "text/html": [
       "<div>\n",
       "<style scoped>\n",
       "    .dataframe tbody tr th:only-of-type {\n",
       "        vertical-align: middle;\n",
       "    }\n",
       "\n",
       "    .dataframe tbody tr th {\n",
       "        vertical-align: top;\n",
       "    }\n",
       "\n",
       "    .dataframe thead th {\n",
       "        text-align: right;\n",
       "    }\n",
       "</style>\n",
       "<table border=\"1\" class=\"dataframe\">\n",
       "  <thead>\n",
       "    <tr style=\"text-align: right;\">\n",
       "      <th></th>\n",
       "      <th>Date</th>\n",
       "      <th>Site ID</th>\n",
       "      <th>Daily Mean PM10 Concentration</th>\n",
       "      <th>PERCENT_COMPLETE</th>\n",
       "      <th>STATE_CODE</th>\n",
       "      <th>STATE</th>\n",
       "      <th>COUNTY_CODE</th>\n",
       "      <th>COUNTY</th>\n",
       "      <th>SITE_LATITUDE</th>\n",
       "      <th>SITE_LONGITUDE</th>\n",
       "    </tr>\n",
       "  </thead>\n",
       "  <tbody>\n",
       "    <tr>\n",
       "      <th>16325</th>\n",
       "      <td>01/05/1990</td>\n",
       "      <td>560010006</td>\n",
       "      <td>34</td>\n",
       "      <td>100.0</td>\n",
       "      <td>56</td>\n",
       "      <td>Wyoming</td>\n",
       "      <td>1</td>\n",
       "      <td>Albany</td>\n",
       "      <td>41.311586</td>\n",
       "      <td>-105.591725</td>\n",
       "    </tr>\n",
       "    <tr>\n",
       "      <th>16326</th>\n",
       "      <td>01/11/1990</td>\n",
       "      <td>560010006</td>\n",
       "      <td>18</td>\n",
       "      <td>100.0</td>\n",
       "      <td>56</td>\n",
       "      <td>Wyoming</td>\n",
       "      <td>1</td>\n",
       "      <td>Albany</td>\n",
       "      <td>41.311586</td>\n",
       "      <td>-105.591725</td>\n",
       "    </tr>\n",
       "    <tr>\n",
       "      <th>16327</th>\n",
       "      <td>01/23/1990</td>\n",
       "      <td>560010006</td>\n",
       "      <td>14</td>\n",
       "      <td>100.0</td>\n",
       "      <td>56</td>\n",
       "      <td>Wyoming</td>\n",
       "      <td>1</td>\n",
       "      <td>Albany</td>\n",
       "      <td>41.311586</td>\n",
       "      <td>-105.591725</td>\n",
       "    </tr>\n",
       "    <tr>\n",
       "      <th>16328</th>\n",
       "      <td>02/10/1990</td>\n",
       "      <td>560010006</td>\n",
       "      <td>12</td>\n",
       "      <td>100.0</td>\n",
       "      <td>56</td>\n",
       "      <td>Wyoming</td>\n",
       "      <td>1</td>\n",
       "      <td>Albany</td>\n",
       "      <td>41.311586</td>\n",
       "      <td>-105.591725</td>\n",
       "    </tr>\n",
       "    <tr>\n",
       "      <th>16329</th>\n",
       "      <td>02/28/1990</td>\n",
       "      <td>560010006</td>\n",
       "      <td>39</td>\n",
       "      <td>100.0</td>\n",
       "      <td>56</td>\n",
       "      <td>Wyoming</td>\n",
       "      <td>1</td>\n",
       "      <td>Albany</td>\n",
       "      <td>41.311586</td>\n",
       "      <td>-105.591725</td>\n",
       "    </tr>\n",
       "  </tbody>\n",
       "</table>\n",
       "</div>"
      ],
      "text/plain": [
       "             Date    Site ID  Daily Mean PM10 Concentration  PERCENT_COMPLETE  \\\n",
       "16325  01/05/1990  560010006                             34             100.0   \n",
       "16326  01/11/1990  560010006                             18             100.0   \n",
       "16327  01/23/1990  560010006                             14             100.0   \n",
       "16328  02/10/1990  560010006                             12             100.0   \n",
       "16329  02/28/1990  560010006                             39             100.0   \n",
       "\n",
       "       STATE_CODE    STATE  COUNTY_CODE  COUNTY  SITE_LATITUDE  SITE_LONGITUDE  \n",
       "16325          56  Wyoming            1  Albany      41.311586     -105.591725  \n",
       "16326          56  Wyoming            1  Albany      41.311586     -105.591725  \n",
       "16327          56  Wyoming            1  Albany      41.311586     -105.591725  \n",
       "16328          56  Wyoming            1  Albany      41.311586     -105.591725  \n",
       "16329          56  Wyoming            1  Albany      41.311586     -105.591725  "
      ]
     },
     "execution_count": 31,
     "metadata": {},
     "output_type": "execute_result"
    }
   ],
   "source": [
    "t2.head()"
   ]
  },
  {
   "cell_type": "code",
   "execution_count": 32,
   "metadata": {},
   "outputs": [],
   "source": [
    "q1 = t2[t2['Date']<='03/31/1990']\n",
    "q1 = func_select_11(q1)\n",
    "q1.drop(columns=['STATE', 'COUNTY_CODE', 'COUNTY', 'PERCENT_COMPLETE'], inplace=True)\n",
    "q1 = q1.groupby('Site ID').mean()\n",
    "X = q1[['SITE_LONGITUDE', 'SITE_LATITUDE']].values\n",
    "y = q1[['Daily Mean PM10 Concentration']].values"
   ]
  },
  {
   "cell_type": "markdown",
   "metadata": {},
   "source": [
    "## Spatial Averaging"
   ]
  },
  {
   "cell_type": "code",
   "execution_count": 33,
   "metadata": {},
   "outputs": [
    {
     "data": {
      "text/plain": [
       "SpatialAverage"
      ]
     },
     "execution_count": 33,
     "metadata": {},
     "output_type": "execute_result"
    }
   ],
   "source": [
    "from polire.interpolate import SpatialAverage\n",
    "spatial = SpatialAverage(coordinate_type='Geographic', radius=16.1)\n",
    "spatial.fit(X, y)"
   ]
  },
  {
   "cell_type": "code",
   "execution_count": 35,
   "metadata": {},
   "outputs": [],
   "source": [
    "spatial_predictions = np.zeros(centroids.shape[0])\n",
    "\n",
    "for ix in np.arange(0, centroids.shape[0], 1000):\n",
    "    \n",
    "    if centroids.shape[0] - ix >= 1000: \n",
    "        spatial_predictions[ix: ix + 1000] = spatial.predict(centroids[ix:ix + 1000]).squeeze()\n",
    "    \n",
    "    else: \n",
    "        spatial_predictions[ix: ] = spatial.predict(centroids[ix:])"
   ]
  },
  {
   "cell_type": "markdown",
   "metadata": {},
   "source": [
    "## IDW"
   ]
  },
  {
   "cell_type": "code",
   "execution_count": 36,
   "metadata": {},
   "outputs": [],
   "source": [
    "from polire.interpolate import Idw\n",
    "from polire.utils.distance import haversine, euclidean\n",
    "idw = Idw(coordinate_type='Geographic')\n",
    "idw.fit(X, y)\n",
    "idw_predictions = np.zeros(centroids.shape[0])\n",
    "for ix, data_point in enumerate(centroids):\n",
    "    distances = haversine(data_point, X)\n",
    "    mask = distances <= 250\n",
    "    X_train = X[mask]\n",
    "    y_train = y[mask]\n",
    "    idw_predictions[ix] = idw.predict(data_point.reshape(1, 2))"
   ]
  },
  {
   "cell_type": "markdown",
   "metadata": {},
   "source": [
    "### $k$-NN, with $k = 1$."
   ]
  },
  {
   "cell_type": "code",
   "execution_count": 37,
   "metadata": {},
   "outputs": [],
   "source": [
    "from polire.custom import CustomInterpolator\n",
    "from sklearn.neighbors import KNeighborsRegressor\n",
    "knn = CustomInterpolator(KNeighborsRegressor, reg_kwargs={'n_neighbors':1})\n",
    "knn.fit(X, y)\n",
    "knn_predictions = knn.predict(centroids)"
   ]
  },
  {
   "cell_type": "markdown",
   "metadata": {},
   "source": [
    "## Summary Statistics"
   ]
  },
  {
   "cell_type": "markdown",
   "metadata": {},
   "source": [
    "### Station"
   ]
  },
  {
   "cell_type": "code",
   "execution_count": 38,
   "metadata": {},
   "outputs": [
    {
     "name": "stdout",
     "output_type": "stream",
     "text": [
      "Station Statistics\n",
      "------------------\n",
      "Mean 27.44022541440442\n",
      "25 Percentile 20.066666666666666\n",
      "50 Percentile / Median 25.378571428571426\n",
      "75 Percentile 32.62307692307692\n"
     ]
    }
   ],
   "source": [
    "## Station Mean\n",
    "print(\"Station Statistics\")\n",
    "print(\"------------------\")\n",
    "print(\"Mean\", y.mean())\n",
    "## Station 25 Percentile\n",
    "print(\"25 Percentile\", np.percentile(y, 25))\n",
    "## Station 50 Percentile / Median\n",
    "print(\"50 Percentile / Median\", np.percentile(y, 50))\n",
    "## Station 75 Percentile\n",
    "print(\"75 Percentile\", np.percentile(y, 75))"
   ]
  },
  {
   "cell_type": "markdown",
   "metadata": {},
   "source": [
    "### IDW"
   ]
  },
  {
   "cell_type": "code",
   "execution_count": 39,
   "metadata": {},
   "outputs": [
    {
     "name": "stdout",
     "output_type": "stream",
     "text": [
      "IDW Statistics\n",
      "------------------\n",
      "Mean 28.824311275689336\n",
      "25 Percentile 24.22179184337761\n",
      "50 Percentile / Median 26.786882517580704\n",
      "75 Percentile 31.05568493632635\n"
     ]
    }
   ],
   "source": [
    "## IDW Mean\n",
    "print(\"IDW Statistics\")\n",
    "print(\"------------------\")\n",
    "print(\"Mean\", idw_predictions.mean())\n",
    "##  25 Percentile\n",
    "print(\"25 Percentile\", np.percentile(idw_predictions, 25))\n",
    "##  50 Percentile / Median\n",
    "print(\"50 Percentile / Median\", np.percentile(idw_predictions, 50))\n",
    "##  75 Percentile\n",
    "print(\"75 Percentile\", np.percentile(idw_predictions, 75))"
   ]
  },
  {
   "cell_type": "markdown",
   "metadata": {},
   "source": [
    "### Spatial Averaging"
   ]
  },
  {
   "cell_type": "code",
   "execution_count": 40,
   "metadata": {},
   "outputs": [],
   "source": [
    "t_spatial_predictions = spatial_predictions[~np.isnan(spatial_predictions)]"
   ]
  },
  {
   "cell_type": "code",
   "execution_count": 41,
   "metadata": {},
   "outputs": [
    {
     "name": "stdout",
     "output_type": "stream",
     "text": [
      "Spatial Averaging Statistics\n",
      "------------------\n",
      "Mean 30.635009716010725\n",
      "25 Percentile 23.746153846153845\n",
      "50 Percentile / Median 28.936507936507937\n",
      "75 Percentile 34.25\n"
     ]
    }
   ],
   "source": [
    "## Spatial Averaging Mean\n",
    "print(\"Spatial Averaging Statistics\")\n",
    "print(\"------------------\")\n",
    "print(\"Mean\", t_spatial_predictions.mean())\n",
    "##  25 Percentile\n",
    "print(\"25 Percentile\", np.percentile(t_spatial_predictions, 25))\n",
    "##  50 Percentile / Median\n",
    "print(\"50 Percentile / Median\", np.percentile(t_spatial_predictions, 50))\n",
    "##  75 Percentile\n",
    "print(\"75 Percentile\", np.percentile(t_spatial_predictions, 75))"
   ]
  },
  {
   "cell_type": "markdown",
   "metadata": {},
   "source": [
    "### $1$-NN"
   ]
  },
  {
   "cell_type": "code",
   "execution_count": 42,
   "metadata": {},
   "outputs": [
    {
     "name": "stdout",
     "output_type": "stream",
     "text": [
      "KNN Statistics\n",
      "------------------\n",
      "Mean 28.42169763755743\n",
      "25 Percentile 21.333333333333332\n",
      "50 Percentile / Median 26.066666666666666\n",
      "75 Percentile 32.6\n"
     ]
    }
   ],
   "source": [
    "## KNN Mean\n",
    "print(\"KNN Statistics\")\n",
    "print(\"------------------\")\n",
    "print(\"Mean\", knn_predictions.mean())\n",
    "##  25 Percentile\n",
    "print(\"25 Percentile\", np.percentile(knn_predictions, 25))\n",
    "##  50 Percentile / Median\n",
    "print(\"50 Percentile / Median\", np.percentile(knn_predictions, 50))\n",
    "##  75 Percentile\n",
    "print(\"75 Percentile\", np.percentile(knn_predictions, 75))"
   ]
  },
  {
   "cell_type": "markdown",
   "metadata": {},
   "source": [
    "# Q2"
   ]
  },
  {
   "cell_type": "code",
   "execution_count": 43,
   "metadata": {},
   "outputs": [],
   "source": [
    "q2 = t2[(t2['Date']>='04/01/1990').values & (t2['Date']<='06/30/1990').values]\n",
    "q2 = func_select_11(q2)\n",
    "q2.drop(columns=['STATE', 'COUNTY_CODE', 'COUNTY', 'PERCENT_COMPLETE'], inplace=True)\n",
    "q2 = q2.groupby('Site ID').mean()\n",
    "X = q2[['SITE_LONGITUDE', 'SITE_LATITUDE']].values\n",
    "y = q2[['Daily Mean PM10 Concentration']].values"
   ]
  },
  {
   "cell_type": "markdown",
   "metadata": {},
   "source": [
    "## Spatial"
   ]
  },
  {
   "cell_type": "code",
   "execution_count": 44,
   "metadata": {},
   "outputs": [],
   "source": [
    "spatial = SpatialAverage(coordinate_type='Geographic', radius=16.1)\n",
    "spatial.fit(X, y)\n",
    "\n",
    "spatial_predictions = np.zeros(centroids.shape[0])\n",
    "\n",
    "for ix in np.arange(0, centroids.shape[0], 1000):\n",
    "    \n",
    "    if centroids.shape[0] - ix >= 1000: \n",
    "        spatial_predictions[ix: ix + 1000] = spatial.predict(centroids[ix:ix + 1000]).squeeze()\n",
    "    \n",
    "    else: \n",
    "        spatial_predictions[ix: ] = spatial.predict(centroids[ix:])"
   ]
  },
  {
   "cell_type": "markdown",
   "metadata": {},
   "source": [
    "## IDW"
   ]
  },
  {
   "cell_type": "code",
   "execution_count": 45,
   "metadata": {},
   "outputs": [],
   "source": [
    "idw = Idw(coordinate_type='Geographic')\n",
    "idw.fit(X, y)\n",
    "idw_predictions = np.zeros(centroids.shape[0])\n",
    "for ix, data_point in enumerate(centroids):\n",
    "    distances = haversine(data_point, X)\n",
    "    mask = distances <= 250\n",
    "    X_train = X[mask]\n",
    "    y_train = y[mask]\n",
    "    idw_predictions[ix] = idw.predict(data_point.reshape(1, 2))"
   ]
  },
  {
   "cell_type": "markdown",
   "metadata": {},
   "source": [
    "## 1NN"
   ]
  },
  {
   "cell_type": "code",
   "execution_count": 46,
   "metadata": {},
   "outputs": [],
   "source": [
    "knn = CustomInterpolator(KNeighborsRegressor, reg_kwargs={'n_neighbors':1})\n",
    "knn.fit(X, y)\n",
    "knn_predictions = knn.predict(centroids)"
   ]
  },
  {
   "cell_type": "code",
   "execution_count": 47,
   "metadata": {},
   "outputs": [
    {
     "name": "stdout",
     "output_type": "stream",
     "text": [
      "Station Statistics\n",
      "------------------\n",
      "Mean 26.00743198767704\n",
      "25 Percentile 20.0\n",
      "50 Percentile / Median 24.723809523809525\n",
      "75 Percentile 30.533333333333335\n",
      "IDW Statistics\n",
      "------------------\n",
      "Mean 27.89066069471965\n",
      "25 Percentile 24.26321288511181\n",
      "50 Percentile / Median 27.183514183556433\n",
      "75 Percentile 30.049815210488255\n",
      "Spatial Averaging Statistics\n",
      "------------------\n",
      "Mean 28.519378571579164\n",
      "25 Percentile 23.03333333333333\n",
      "50 Percentile / Median 27.266666666666666\n",
      "75 Percentile 32.925428194993415\n",
      "KNN Statistics\n",
      "------------------\n",
      "Mean 27.273765835308186\n",
      "25 Percentile 21.733333333333334\n",
      "50 Percentile / Median 25.8\n",
      "75 Percentile 30.454545454545453\n"
     ]
    }
   ],
   "source": [
    "## Station Mean\n",
    "print(\"Station Statistics\")\n",
    "print(\"------------------\")\n",
    "print(\"Mean\", y.mean())\n",
    "## Station 25 Percentile\n",
    "print(\"25 Percentile\", np.percentile(y, 25))\n",
    "## Station 50 Percentile / Median\n",
    "print(\"50 Percentile / Median\", np.percentile(y, 50))\n",
    "## Station 75 Percentile\n",
    "print(\"75 Percentile\", np.percentile(y, 75))\n",
    "\n",
    "## IDW Mean\n",
    "print(\"IDW Statistics\")\n",
    "print(\"------------------\")\n",
    "print(\"Mean\", idw_predictions.mean())\n",
    "##  25 Percentile\n",
    "print(\"25 Percentile\", np.percentile(idw_predictions, 25))\n",
    "##  50 Percentile / Median\n",
    "print(\"50 Percentile / Median\", np.percentile(idw_predictions, 50))\n",
    "##  75 Percentile\n",
    "print(\"75 Percentile\", np.percentile(idw_predictions, 75))\n",
    "\n",
    "\n",
    "## Spatial Averaging Mean\n",
    "\n",
    "t_spatial_predictions = spatial_predictions[~np.isnan(spatial_predictions)]\n",
    "print(\"Spatial Averaging Statistics\")\n",
    "print(\"------------------\")\n",
    "print(\"Mean\", t_spatial_predictions.mean())\n",
    "##  25 Percentile\n",
    "print(\"25 Percentile\", np.percentile(t_spatial_predictions, 25))\n",
    "##  50 Percentile / Median\n",
    "print(\"50 Percentile / Median\", np.percentile(t_spatial_predictions, 50))\n",
    "##  75 Percentile\n",
    "print(\"75 Percentile\", np.percentile(t_spatial_predictions, 75))\n",
    "\n",
    "## KNN Mean\n",
    "print(\"KNN Statistics\")\n",
    "print(\"------------------\")\n",
    "print(\"Mean\", knn_predictions.mean())\n",
    "##  25 Percentile\n",
    "print(\"25 Percentile\", np.percentile(knn_predictions, 25))\n",
    "##  50 Percentile / Median\n",
    "print(\"50 Percentile / Median\", np.percentile(knn_predictions, 50))\n",
    "##  75 Percentile\n",
    "print(\"75 Percentile\", np.percentile(knn_predictions, 75))"
   ]
  },
  {
   "cell_type": "markdown",
   "metadata": {},
   "source": [
    "# Q3"
   ]
  },
  {
   "cell_type": "code",
   "execution_count": null,
   "metadata": {},
   "outputs": [],
   "source": [
    "q3 = t2[(t2['Date']>='07/01/1990').values & (t2['Date']<='09/30/1990').values]\n",
    "q3 = func_select_11(q3)\n",
    "q3.drop(columns=['STATE', 'COUNTY_CODE', 'COUNTY', 'PERCENT_COMPLETE'], inplace=True)\n",
    "q3 = q3.groupby('Site ID').mean()\n",
    "X = q3[['SITE_LONGITUDE', 'SITE_LATITUDE']].values\n",
    "y = q3[['Daily Mean PM10 Concentration']].values\n",
    "\n",
    "\n",
    "spatial = SpatialAverage(coordinate_type='Geographic', radius=16.1)\n",
    "spatial.fit(X, y)\n",
    "\n",
    "spatial_predictions = np.zeros(centroids.shape[0])\n",
    "\n",
    "for ix in np.arange(0, centroids.shape[0], 1000):\n",
    "    \n",
    "    if centroids.shape[0] - ix >= 1000: \n",
    "        spatial_predictions[ix: ix + 1000] = spatial.predict(centroids[ix:ix + 1000]).squeeze()\n",
    "    \n",
    "    else: \n",
    "        spatial_predictions[ix: ] = spatial.predict(centroids[ix:])\n",
    "        \n",
    "idw = Idw(coordinate_type='Geographic')\n",
    "idw.fit(X, y)\n",
    "idw_predictions = np.zeros(centroids.shape[0])\n",
    "for ix, data_point in enumerate(centroids):\n",
    "    distances = haversine(data_point, X)\n",
    "    mask = distances <= 250\n",
    "    X_train = X[mask]\n",
    "    y_train = y[mask]\n",
    "    idw_predictions[ix] = idw.predict(data_point.reshape(1, 2))       \n",
    "\n",
    "knn = CustomInterpolator(KNeighborsRegressor, reg_kwargs={'n_neighbors':1})\n",
    "knn.fit(X, y)\n",
    "knn_predictions = knn.predict(centroids)"
   ]
  },
  {
   "cell_type": "code",
   "execution_count": null,
   "metadata": {},
   "outputs": [],
   "source": [
    "## Station Mean\n",
    "print(\"Station Statistics\")\n",
    "print(\"------------------\")\n",
    "print(\"Mean\", y.mean())\n",
    "## Station 25 Percentile\n",
    "print(\"25 Percentile\", np.percentile(y, 25))\n",
    "## Station 50 Percentile / Median\n",
    "print(\"50 Percentile / Median\", np.percentile(y, 50))\n",
    "## Station 75 Percentile\n",
    "print(\"75 Percentile\", np.percentile(y, 75))\n",
    "\n",
    "## IDW Mean\n",
    "print(\"IDW Statistics\")\n",
    "print(\"------------------\")\n",
    "print(\"Mean\", idw_predictions.mean())\n",
    "##  25 Percentile\n",
    "print(\"25 Percentile\", np.percentile(idw_predictions, 25))\n",
    "##  50 Percentile / Median\n",
    "print(\"50 Percentile / Median\", np.percentile(idw_predictions, 50))\n",
    "##  75 Percentile\n",
    "print(\"75 Percentile\", np.percentile(idw_predictions, 75))\n",
    "\n",
    "\n",
    "## Spatial Averaging Mean\n",
    "\n",
    "t_spatial_predictions = spatial_predictions[~np.isnan(spatial_predictions)]\n",
    "print(\"Spatial Averaging Statistics\")\n",
    "print(\"------------------\")\n",
    "print(\"Mean\", t_spatial_predictions.mean())\n",
    "##  25 Percentile\n",
    "print(\"25 Percentile\", np.percentile(t_spatial_predictions, 25))\n",
    "##  50 Percentile / Median\n",
    "print(\"50 Percentile / Median\", np.percentile(t_spatial_predictions, 50))\n",
    "##  75 Percentile\n",
    "print(\"75 Percentile\", np.percentile(t_spatial_predictions, 75))\n",
    "\n",
    "## KNN Mean\n",
    "print(\"KNN Statistics\")\n",
    "print(\"------------------\")\n",
    "print(\"Mean\", knn_predictions.mean())\n",
    "##  25 Percentile\n",
    "print(\"25 Percentile\", np.percentile(knn_predictions, 25))\n",
    "##  50 Percentile / Median\n",
    "print(\"50 Percentile / Median\", np.percentile(knn_predictions, 50))\n",
    "##  75 Percentile\n",
    "print(\"75 Percentile\", np.percentile(knn_predictions, 75))"
   ]
  },
  {
   "cell_type": "markdown",
   "metadata": {},
   "source": [
    "# Q4"
   ]
  },
  {
   "cell_type": "code",
   "execution_count": null,
   "metadata": {},
   "outputs": [],
   "source": [
    "q4 = t2[(t2['Date']>='10/01/1990').values ]\n",
    "q4 = func_select_11(q4)\n",
    "q4.drop(columns=['STATE', 'COUNTY_CODE', 'COUNTY', 'PERCENT_COMPLETE'], inplace=True)\n",
    "q4 = q4.groupby('Site ID').mean()\n",
    "X = q4[['SITE_LONGITUDE', 'SITE_LATITUDE']].values\n",
    "y = q4[['Daily Mean PM10 Concentration']].values\n",
    "\n",
    "\n",
    "spatial = SpatialAverage(coordinate_type='Geographic', radius=16.1)\n",
    "spatial.fit(X, y)\n",
    "\n",
    "spatial_predictions = np.zeros(centroids.shape[0])\n",
    "\n",
    "for ix in np.arange(0, centroids.shape[0], 1000):\n",
    "    \n",
    "    if centroids.shape[0] - ix >= 1000: \n",
    "        spatial_predictions[ix: ix + 1000] = spatial.predict(centroids[ix:ix + 1000]).squeeze()\n",
    "    \n",
    "    else: \n",
    "        spatial_predictions[ix: ] = spatial.predict(centroids[ix:])\n",
    "        \n",
    "idw = Idw(coordinate_type='Geographic')\n",
    "idw.fit(X, y)\n",
    "idw_predictions = np.zeros(centroids.shape[0])\n",
    "for ix, data_point in enumerate(centroids):\n",
    "    distances = haversine(data_point, X)\n",
    "    mask = distances <= 250\n",
    "    X_train = X[mask]\n",
    "    y_train = y[mask]\n",
    "    idw_predictions[ix] = idw.predict(data_point.reshape(1, 2))       \n",
    "\n",
    "knn = CustomInterpolator(KNeighborsRegressor, reg_kwargs={'n_neighbors':1})\n",
    "knn.fit(X, y)\n",
    "knn_predictions = knn.predict(centroids)"
   ]
  },
  {
   "cell_type": "code",
   "execution_count": null,
   "metadata": {},
   "outputs": [],
   "source": [
    "## Station Mean\n",
    "print(\"Station Statistics\")\n",
    "print(\"------------------\")\n",
    "print(\"Mean\", y.mean())\n",
    "## Station 25 Percentile\n",
    "print(\"25 Percentile\", np.percentile(y, 25))\n",
    "## Station 50 Percentile / Median\n",
    "print(\"50 Percentile / Median\", np.percentile(y, 50))\n",
    "## Station 75 Percentile\n",
    "print(\"75 Percentile\", np.percentile(y, 75))\n",
    "\n",
    "## IDW Mean\n",
    "print(\"IDW Statistics\")\n",
    "print(\"------------------\")\n",
    "print(\"Mean\", idw_predictions.mean())\n",
    "##  25 Percentile\n",
    "print(\"25 Percentile\", np.percentile(idw_predictions, 25))\n",
    "##  50 Percentile / Median\n",
    "print(\"50 Percentile / Median\", np.percentile(idw_predictions, 50))\n",
    "##  75 Percentile\n",
    "print(\"75 Percentile\", np.percentile(idw_predictions, 75))\n",
    "\n",
    "\n",
    "## Spatial Averaging Mean\n",
    "\n",
    "t_spatial_predictions = spatial_predictions[~np.isnan(spatial_predictions)]\n",
    "print(\"Spatial Averaging Statistics\")\n",
    "print(\"------------------\")\n",
    "print(\"Mean\", t_spatial_predictions.mean())\n",
    "##  25 Percentile\n",
    "print(\"25 Percentile\", np.percentile(t_spatial_predictions, 25))\n",
    "##  50 Percentile / Median\n",
    "print(\"50 Percentile / Median\", np.percentile(t_spatial_predictions, 50))\n",
    "##  75 Percentile\n",
    "print(\"75 Percentile\", np.percentile(t_spatial_predictions, 75))\n",
    "\n",
    "## KNN Mean\n",
    "print(\"KNN Statistics\")\n",
    "print(\"------------------\")\n",
    "print(\"Mean\", knn_predictions.mean())\n",
    "##  25 Percentile\n",
    "print(\"25 Percentile\", np.percentile(knn_predictions, 25))\n",
    "##  50 Percentile / Median\n",
    "print(\"50 Percentile / Median\", np.percentile(knn_predictions, 50))\n",
    "##  75 Percentile\n",
    "print(\"75 Percentile\", np.percentile(knn_predictions, 75))"
   ]
  },
  {
   "cell_type": "markdown",
   "metadata": {},
   "source": [
    "# Kriging is done region wise. "
   ]
  },
  {
   "cell_type": "markdown",
   "metadata": {},
   "source": [
    "## Q1"
   ]
  },
  {
   "cell_type": "code",
   "execution_count": null,
   "metadata": {},
   "outputs": [],
   "source": [
    "def make_gdf(df, gdf):\n",
    "    states = df['STATE_CODE'].unique()\n",
    "    tgdf = gdf[gdf['STATE_FIPS'].isin([resize(x) for x in states])]\n",
    "    return tgdf\n",
    "\n",
    "def get_centroids(gdf):\n",
    "    shapes = gdf['geometry'].unique()\n",
    "    centroids = [shapes[i].centroid.wkt for i in range(len(shapes))]\n",
    "    centroids = [centroids[i].split(' ')[1:] for i in range(len(centroids))]\n",
    "    centroids = [[np.float64(centroids[i][0][1:]), np.float64(centroids[i][1][:-1])] for i in range(len(centroids))]\n",
    "    centroids = np.array(centroids)\n",
    "    return centroids\n",
    "\n",
    "def resize(x):\n",
    "    if len(str(x))==1:\n",
    "        return '0'+str(x)\n",
    "    else:\n",
    "        return str(x)"
   ]
  },
  {
   "cell_type": "code",
   "execution_count": null,
   "metadata": {},
   "outputs": [],
   "source": [
    "def krig_interpolate(df, quarter, centroids, nlags):\n",
    "    \n",
    "    if quarter == 1:\n",
    "        df = df[df['Date']<='03/31/1990']\n",
    "    elif quarter == 2:\n",
    "        df = df[(df['Date']>='04/01/1990').values & (df['Date']<='06/30/1990').values]\n",
    "    elif quarter == 3:\n",
    "        df = df[(df['Date']>='07/01/1990').values & (df['Date']<='09/30/1990').values]\n",
    "    else:\n",
    "        df = df[(df['Date']>='10/01/1990').values ]\n",
    "        \n",
    "        \n",
    "    df = func_select_11(df)\n",
    "    df.drop(columns=['STATE', 'COUNTY_CODE', 'COUNTY', 'PERCENT_COMPLETE'], inplace=True)\n",
    "    df = df.groupby('Site ID').mean()\n",
    "    X = df[['SITE_LONGITUDE', 'SITE_LATITUDE']].values\n",
    "    y = df[['Daily Mean PM10 Concentration']].values\n",
    "    \n",
    "    X_krig = X.copy()\n",
    "    X_test_krig = centroids.copy()\n",
    "    X_krig[:, 0] = X_krig[:, 0] + 360\n",
    "    krig = Kriging(variogram_model='spherical', coordinate_type='Geographic', nlags = nlags)\n",
    "    krig.fit(X_krig, y)\n",
    "    krig_predictions = np.array(krig.predict(centroids))\n",
    "    \n",
    "    return krig_predictions\n"
   ]
  },
  {
   "cell_type": "code",
   "execution_count": null,
   "metadata": {},
   "outputs": [],
   "source": [
    "import geopandas as gpd\n",
    "gdf = gpd.read_file(\"../block_groups/Boundary/USA_BG.shp\")"
   ]
  },
  {
   "cell_type": "code",
   "execution_count": null,
   "metadata": {},
   "outputs": [],
   "source": [
    "ne_gdf = make_gdf(nedf, gdf)\n",
    "ne_centroids = get_centroids(ne_gdf)\n",
    "\n",
    "nw_gdf = make_gdf(nwdf, gdf)\n",
    "nw_centroids = get_centroids(nw_gdf)\n",
    "nw_centroids = nw_centroids[nw_centroids[:, 1]>=34.81]\n",
    "\n",
    "\n",
    "se_gdf = make_gdf(sedf, gdf)\n",
    "se_centroids = get_centroids(se_gdf)\n",
    "\n",
    "\n",
    "socal_gdf = make_gdf(scal, gdf)\n",
    "socal_centroids = get_centroids(socal_gdf)\n",
    "socal_centroids = socal_centroids[socal_centroids[:, 1]<=34.81]\n",
    "\n",
    "\n",
    "mw_gdf = make_gdf(mwdf, gdf)\n",
    "mw_centroids = get_centroids(mw_gdf)"
   ]
  },
  {
   "cell_type": "code",
   "execution_count": null,
   "metadata": {},
   "outputs": [],
   "source": [
    "from polire.interpolate import Kriging"
   ]
  },
  {
   "cell_type": "code",
   "execution_count": null,
   "metadata": {},
   "outputs": [],
   "source": [
    "ne_q1 = krig_interpolate(nedf, 1, ne_centroids, nlags = 40)\n",
    "ne_q2 = krig_interpolate(nedf, 2, ne_centroids, nlags = 40)\n",
    "ne_q3 = krig_interpolate(nedf, 3, ne_centroids, nlags = 40)\n",
    "ne_q4 = krig_interpolate(nedf, 4, ne_centroids, nlags = 40)\n",
    "\n",
    "nw_q1 = krig_interpolate(nwdf, 1, nw_centroids, nlags = 17)\n",
    "nw_q2 = krig_interpolate(nwdf, 2, nw_centroids, nlags = 17)\n",
    "nw_q3 = krig_interpolate(nwdf, 3, nw_centroids, nlags = 17)\n",
    "nw_q4 = krig_interpolate(nwdf, 4, nw_centroids, nlags = 17)\n",
    "\n",
    "se_q1 = krig_interpolate(sedf, 1, se_centroids, nlags = 40)\n",
    "se_q2 = krig_interpolate(sedf, 2, se_centroids, nlags = 40)\n",
    "se_q3 = krig_interpolate(sedf, 3, se_centroids, nlags = 40)\n",
    "se_q4 = krig_interpolate(sedf, 4, se_centroids, nlags = 40)\n",
    "\n",
    "socal_q1 = krig_interpolate(scal, 1, socal_centroids, nlags = 17)\n",
    "socal_q2 = krig_interpolate(scal, 2, socal_centroids, nlags = 17)\n",
    "socal_q3 = krig_interpolate(scal, 3, socal_centroids, nlags = 17)\n",
    "socal_q4 = krig_interpolate(scal, 4, socal_centroids, nlags = 17)\n",
    "\n",
    "mw_q1 = krig_interpolate(mwdf, 1, mw_centroids, nlags = 40)\n",
    "mw_q2 = krig_interpolate(mwdf, 2, mw_centroids, nlags = 40)\n",
    "mw_q3 = krig_interpolate(mwdf, 3, mw_centroids, nlags = 40)\n",
    "mw_q4 = krig_interpolate(mwdf, 4, mw_centroids, nlags = 40)"
   ]
  },
  {
   "cell_type": "code",
   "execution_count": null,
   "metadata": {},
   "outputs": [],
   "source": [
    "usa_kriging_q1 = [np.array(ne_q1), np.array(nw_q1), np.array(se_q1), np.array(socal_q1), np.array(mw_q1)]\n",
    "usa_kriging_q2 = [np.array(ne_q2), np.array(nw_q2), np.array(se_q2), np.array(socal_q2), np.array(mw_q2)]\n",
    "usa_kriging_q3 = [np.array(ne_q3), np.array(nw_q3), np.array(se_q3), np.array(socal_q3), np.array(mw_q3)]\n",
    "usa_kriging_q4 = [np.array(ne_q4), np.array(nw_q4), np.array(se_q4), np.array(socal_q4), np.array(mw_q4)]"
   ]
  },
  {
   "cell_type": "code",
   "execution_count": null,
   "metadata": {},
   "outputs": [],
   "source": [
    "usa_kriging_final_q1 = usa_kriging_q1[0]\n",
    "for i in range(1, 5):\n",
    "    usa_kriging_final_q1 = np.append(usa_kriging_final_q1, usa_kriging_q1[i])"
   ]
  },
  {
   "cell_type": "code",
   "execution_count": null,
   "metadata": {},
   "outputs": [],
   "source": [
    "usa_kriging_final_q2 = usa_kriging_q2[0]\n",
    "for i in range(1, 5):\n",
    "    usa_kriging_final_q2 = np.append(usa_kriging_final_q2, usa_kriging_q2[i])"
   ]
  },
  {
   "cell_type": "code",
   "execution_count": null,
   "metadata": {},
   "outputs": [],
   "source": [
    "usa_kriging_final_q3 = usa_kriging_q3[0]\n",
    "for i in range(1, 5):\n",
    "    usa_kriging_final_q3 = np.append(usa_kriging_final_q3, usa_kriging_q3[i])"
   ]
  },
  {
   "cell_type": "code",
   "execution_count": null,
   "metadata": {},
   "outputs": [],
   "source": [
    "usa_kriging_final_q4 = usa_kriging_q4[0]\n",
    "for i in range(1, 5):\n",
    "    usa_kriging_final_q4 = np.append(usa_kriging_final_q4, usa_kriging_q4[i])"
   ]
  },
  {
   "cell_type": "markdown",
   "metadata": {},
   "source": [
    "# Q1"
   ]
  },
  {
   "cell_type": "code",
   "execution_count": null,
   "metadata": {},
   "outputs": [],
   "source": [
    "usa_kriging_final_q1.mean(), np.percentile(usa_kriging_final_q1, 25),np.percentile(usa_kriging_final_q1, 50), np.percentile(usa_kriging_final_q1, 75)"
   ]
  },
  {
   "cell_type": "markdown",
   "metadata": {},
   "source": [
    "# Q2"
   ]
  },
  {
   "cell_type": "code",
   "execution_count": null,
   "metadata": {},
   "outputs": [],
   "source": [
    "usa_kriging_final_q2.mean(), np.percentile(usa_kriging_final_q2, 25),np.percentile(usa_kriging_final_q2, 50), np.percentile(usa_kriging_final_q2, 75)"
   ]
  },
  {
   "cell_type": "markdown",
   "metadata": {},
   "source": [
    "# Q3"
   ]
  },
  {
   "cell_type": "code",
   "execution_count": null,
   "metadata": {},
   "outputs": [],
   "source": [
    "usa_kriging_final_q3.mean(), np.percentile(usa_kriging_final_q3, 25),np.percentile(usa_kriging_final_q3, 50), np.percentile(usa_kriging_final_q3, 75)"
   ]
  },
  {
   "cell_type": "markdown",
   "metadata": {},
   "source": [
    "# Q4"
   ]
  },
  {
   "cell_type": "code",
   "execution_count": null,
   "metadata": {},
   "outputs": [],
   "source": [
    "usa_kriging_final_q4.mean(), np.percentile(usa_kriging_final_q4, 25),np.percentile(usa_kriging_final_q4, 50), np.percentile(usa_kriging_final_q4, 75)"
   ]
  },
  {
   "cell_type": "markdown",
   "metadata": {},
   "source": [
    "# Annual"
   ]
  },
  {
   "cell_type": "code",
   "execution_count": null,
   "metadata": {},
   "outputs": [],
   "source": [
    "def compute_krig(df, centroids, nlags):\n",
    "    annual = df.copy()\n",
    "    annual = annual.groupby('Site ID').mean()\n",
    "    annual.drop(columns = ['COUNTY_CODE', 'PERCENT_COMPLETE'], inplace =True)\n",
    "    X = annual[['SITE_LONGITUDE', 'SITE_LATITUDE']].values\n",
    "    y = annual[['Daily Mean PM10 Concentration']]\n",
    "    X[:, 0] = X[:, 0] + 360\n",
    "    k = Kriging(variogram_model='spherical', coordinate_type='Geographic', nlags=nlags)\n",
    "    k.fit(X, y)\n",
    "    krig_predicted = k.predict(centroids)\n",
    "    return krig_predicted\n"
   ]
  },
  {
   "cell_type": "code",
   "execution_count": null,
   "metadata": {},
   "outputs": [],
   "source": [
    "ne_krig = compute_krig(nedf, ne_centroids, nlags = 40)\n",
    "nw_krig = compute_krig(nwdf, nw_centroids, nlags = 17)\n",
    "se_krig = compute_krig(sedf, se_centroids, nlags = 40)\n",
    "socal_krig = compute_krig(scal, socal_centroids, nlags = 17)\n",
    "mw_krig = compute_krig(mwdf, mw_centroids, nlags = 40)"
   ]
  },
  {
   "cell_type": "code",
   "execution_count": null,
   "metadata": {},
   "outputs": [],
   "source": [
    "usa_kriging = [np.array(ne_krig), np.array(nw_krig), np.array(se_krig), np.array(socal_krig), np.array(mw_krig)]"
   ]
  },
  {
   "cell_type": "code",
   "execution_count": null,
   "metadata": {},
   "outputs": [],
   "source": [
    "usa_kriging_final = usa_kriging[0]\n",
    "for i in range(1, 5):\n",
    "    usa_kriging_final = np.append(usa_kriging_final, usa_kriging[i])"
   ]
  },
  {
   "cell_type": "code",
   "execution_count": null,
   "metadata": {},
   "outputs": [],
   "source": [
    "usa_kriging_final.mean(), np.percentile(usa_kriging_final, 25), np.percentile(usa_kriging_final, 50), np.percentile(usa_kriging_final, 75)"
   ]
  },
  {
   "cell_type": "code",
   "execution_count": null,
   "metadata": {},
   "outputs": [],
   "source": []
  }
 ],
 "metadata": {
  "kernelspec": {
   "display_name": "Python 3",
   "language": "python",
   "name": "python3"
  },
  "language_info": {
   "codemirror_mode": {
    "name": "ipython",
    "version": 3
   },
   "file_extension": ".py",
   "mimetype": "text/x-python",
   "name": "python",
   "nbconvert_exporter": "python",
   "pygments_lexer": "ipython3",
   "version": "3.6.10"
  }
 },
 "nbformat": 4,
 "nbformat_minor": 2
}
