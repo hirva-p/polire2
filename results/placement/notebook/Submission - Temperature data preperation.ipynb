{
 "cells": [
  {
   "cell_type": "code",
   "execution_count": 1,
   "metadata": {},
   "outputs": [],
   "source": [
    "import pandas as pd\n",
    "import matplotlib.pyplot as plt"
   ]
  },
  {
   "cell_type": "code",
   "execution_count": 2,
   "metadata": {},
   "outputs": [],
   "source": [
    "df = pd.read_csv('../dataset/data.txt',\n",
    "                 names=['Date','Time','Epoch','ID','Temp','Humidity','Light','Voltage'],sep=' ')\n",
    "df.dropna(subset=['ID','Temp'], inplace=True) # removing null ID entries\n",
    "df['ID'] = df['ID'].astype('int') # converting float ID to int\n",
    "df.set_index('ID', inplace=True, drop=False)\n",
    "\n",
    "locdf = pd.read_csv('../dataset/mote_locs.txt',sep=' ',names=['ID','X','Y'])\n",
    "locdf.set_index('ID', inplace=True)\n",
    "\n",
    "df['X'] = None\n",
    "df['Y'] = None\n",
    "df[['X','Y']] = locdf[['X','Y']]\n",
    "df.dropna(subset=['X','Y'], inplace=True) # dropping mote_id values beyond 54 as we dont have locations for them\n",
    "\n",
    "df['Datetime'] = df['Date'] + ' ' + df['Time']\n",
    "df['Datetime'] = pd.to_datetime(df['Datetime'])\n",
    "df.set_index('Datetime',inplace=True, drop=False)\n",
    "df.sort_index(inplace=True)\n",
    "\n",
    "# Getting data between 8 to 9 am\n",
    "df.to_csv('../dataset/TempData.csv', index=None)\n",
    "\n",
    "None"
   ]
  },
  {
   "cell_type": "code",
   "execution_count": 3,
   "metadata": {},
   "outputs": [
    {
     "data": {
      "image/png": "[encoded data removed]",
      "text/plain": [
       "<Figure size 432x288 with 1 Axes>"
      ]
     },
     "metadata": {
      "needs_background": "light"
     },
     "output_type": "display_data"
    }
   ],
   "source": [
    "dfnew = pd.read_csv('../dataset/TempData.csv')#.between_time('08:00','09:00')\n",
    "dfnew['Datetime'] = pd.to_datetime(dfnew['Datetime'])\n",
    "dfnew.set_index('Datetime', inplace=True)\n",
    "\n",
    "# Choose data between 28-02-2004 to 05-03-2004\n",
    "df7 = dfnew['2004-02-28':'2004-03-05']\n",
    "plt.scatter(df7.index, df7.Temp);"
   ]
  },
  {
   "cell_type": "code",
   "execution_count": 4,
   "metadata": {},
   "outputs": [
    {
     "name": "stdout",
     "output_type": "stream",
     "text": [
      "15    356\n",
      "Name: ID, dtype: int64\n"
     ]
    },
    {
     "data": {
      "text/plain": [
       "2337"
      ]
     },
     "execution_count": 4,
     "metadata": {},
     "output_type": "execute_result"
    }
   ],
   "source": [
    "print(df7[df7['Temp']>50].ID.value_counts())\n",
    "df7.ID.value_counts()[15]\n",
    "# ID 15 is errornous and not in test data Thus ID 15 data will be removed"
   ]
  },
  {
   "cell_type": "code",
   "execution_count": 5,
   "metadata": {},
   "outputs": [
    {
     "name": "stdout",
     "output_type": "stream",
     "text": [
      "20    3\n",
      "2     1\n",
      "Name: ID, dtype: int64\n"
     ]
    },
    {
     "data": {
      "text/plain": [
       "16989"
      ]
     },
     "execution_count": 5,
     "metadata": {},
     "output_type": "execute_result"
    }
   ],
   "source": [
    "print(df7[df7['Temp']<5].ID.value_counts())\n",
    "df7.ID.value_counts()[20]\n",
    "\n",
    "# Negligible errors, just the errornous entries will be removed"
   ]
  },
  {
   "cell_type": "code",
   "execution_count": 6,
   "metadata": {},
   "outputs": [],
   "source": [
    "df7_1 = df7[df7['ID']!=15]\n",
    "df7_2 = df7_1[df7_1['Temp']>5]\n",
    "df7_2 = df7_2['2004-02-28':'2004-03-05']"
   ]
  },
  {
   "cell_type": "code",
   "execution_count": 7,
   "metadata": {},
   "outputs": [
    {
     "data": {
      "text/plain": [
       "<matplotlib.collections.PathCollection at 0x7fc784cee7f0>"
      ]
     },
     "execution_count": 7,
     "metadata": {},
     "output_type": "execute_result"
    },
    {
     "data": {
      "image/png": "[encoded data removed]",
      "text/plain": [
       "<Figure size 432x288 with 1 Axes>"
      ]
     },
     "metadata": {
      "needs_background": "light"
     },
     "output_type": "display_data"
    }
   ],
   "source": [
    "plt.scatter(df7_2.index, df7_2.Temp)"
   ]
  },
  {
   "cell_type": "code",
   "execution_count": 8,
   "metadata": {},
   "outputs": [],
   "source": [
    "df7_2.to_pickle('../dataset/TempData.pickle')"
   ]
  },
  {
   "cell_type": "code",
   "execution_count": null,
   "metadata": {},
   "outputs": [],
   "source": []
  }
 ],
 "metadata": {
  "kernelspec": {
   "display_name": "Python 3",
   "language": "python",
   "name": "python3"
  },
  "language_info": {
   "codemirror_mode": {
    "name": "ipython",
    "version": 3
   },
   "file_extension": ".py",
   "mimetype": "text/x-python",
   "name": "python",
   "nbconvert_exporter": "python",
   "pygments_lexer": "ipython3",
   "version": "3.6.10"
  }
 },
 "nbformat": 4,
 "nbformat_minor": 2
}
