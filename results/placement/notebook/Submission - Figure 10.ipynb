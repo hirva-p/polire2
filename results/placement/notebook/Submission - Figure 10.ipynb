{
 "cells": [
  {
   "cell_type": "markdown",
   "metadata": {},
   "source": [
    "## Standard Imports"
   ]
  },
  {
   "cell_type": "code",
   "execution_count": 26,
   "metadata": {},
   "outputs": [],
   "source": [
    "import warnings\n",
    "warnings.filterwarnings('ignore')"
   ]
  },
  {
   "cell_type": "code",
   "execution_count": 27,
   "metadata": {},
   "outputs": [],
   "source": [
    "import pandas as pd\n",
    "import numpy as np\n",
    "from IPython.display import clear_output\n",
    "import matplotlib.pyplot as plt\n",
    "import warnings\n",
    "warnings.filterwarnings('ignore')\n",
    "import sys\n",
    "sys.path.append(\"../../../\")\n",
    "from matplotlib.animation import FuncAnimation\n",
    "from polire.placement import NottDuns, Stationary"
   ]
  },
  {
   "cell_type": "markdown",
   "metadata": {},
   "source": [
    "## Data Loading"
   ]
  },
  {
   "cell_type": "code",
   "execution_count": 28,
   "metadata": {},
   "outputs": [],
   "source": [
    "train_data = pd.read_pickle('../dataset/PrecData_train.pickle')\n",
    "test_data = pd.read_pickle('../dataset/PrecData_test.pickle')\n",
    "G_train = pd.read_pickle('../dataset/PrecData_Gamma_train.csv')\n",
    "G_test = pd.read_pickle('../dataset/PrecData_Gamma_test.csv')\n",
    "\n",
    "train_data = train_data.reset_index(drop=True)\n",
    "G_train = pd.DataFrame(G_train.values, index=range(G_train.shape[0]), columns=range(G_train.shape[0]))\n",
    "G_test = pd.DataFrame(G_test.values, index=range(G_test.shape[0]), columns=range(G_test.shape[0]))"
   ]
  },
  {
   "cell_type": "markdown",
   "metadata": {},
   "source": [
    "## Visualize all sensor locations in the 2D space"
   ]
  },
  {
   "cell_type": "code",
   "execution_count": 29,
   "metadata": {},
   "outputs": [
    {
     "data": {
      "text/plain": [
       "<matplotlib.collections.PathCollection at 0x7f11decd4240>"
      ]
     },
     "execution_count": 29,
     "metadata": {},
     "output_type": "execute_result"
    },
    {
     "data": {
      "image/png": "[encoded data removed]",
      "text/plain": [
       "<Figure size 237.6x146.845 with 1 Axes>"
      ]
     },
     "metadata": {
      "needs_background": "light"
     },
     "output_type": "display_data"
    }
   ],
   "source": [
    "plt.scatter(train_data['lat'], train_data['lon'])"
   ]
  },
  {
   "cell_type": "markdown",
   "metadata": {},
   "source": [
    "## Visualize train sensor locations in the 2D space"
   ]
  },
  {
   "cell_type": "code",
   "execution_count": 30,
   "metadata": {},
   "outputs": [
    {
     "name": "stdout",
     "output_type": "stream",
     "text": [
      "(30, 3) (30, 30)\n"
     ]
    }
   ],
   "source": [
    "Seed = 42\n",
    "train_sample = train_data.sample(30, random_state=Seed)\n",
    "G = G_train.loc[train_sample.index, train_sample.index]\n",
    "print(train_sample.shape, G.shape)\n",
    "\n",
    "X_train = train_sample[['lat','lon']].values\n",
    "y_train = train_sample[['data']].values.reshape(-1,1)"
   ]
  },
  {
   "cell_type": "code",
   "execution_count": 31,
   "metadata": {},
   "outputs": [
    {
     "data": {
      "text/plain": [
       "<matplotlib.collections.PathCollection at 0x7f11dec66d68>"
      ]
     },
     "execution_count": 31,
     "metadata": {},
     "output_type": "execute_result"
    },
    {
     "data": {
      "image/png": "[encoded data removed]",
      "text/plain": [
       "<Figure size 237.6x146.845 with 1 Axes>"
      ]
     },
     "metadata": {
      "needs_background": "light"
     },
     "output_type": "display_data"
    }
   ],
   "source": [
    "plt.scatter(train_sample['lat'], train_sample['lon'])"
   ]
  },
  {
   "cell_type": "code",
   "execution_count": 32,
   "metadata": {},
   "outputs": [],
   "source": [
    "nonStat = NottDuns(N=10, eta=1)\n",
    "nonStat.fit(X_train, y_train, G.values)"
   ]
  },
  {
   "cell_type": "markdown",
   "metadata": {},
   "source": [
    "## Greedy algorithm for Near Optimal Sensor Placement!"
   ]
  },
  {
   "cell_type": "code",
   "execution_count": 33,
   "metadata": {},
   "outputs": [],
   "source": [
    "# Initials\n",
    "N = 30\n",
    "Pilot_ind = train_sample.index.tolist()\n",
    "A_ind_MI, _ = nonStat.place(train_data[['lat', 'lon']].values, Pilot_ind, N, 'MI')\n",
    "A_ind_Var, _ = nonStat.place(train_data[['lat', 'lon']].values, Pilot_ind, N, 'Entropy')\n",
    "MI = nonStat.MI\n",
    "Var = nonStat.Var"
   ]
  },
  {
   "cell_type": "markdown",
   "metadata": {},
   "source": [
    "## Visualizing sensor placements"
   ]
  },
  {
   "cell_type": "code",
   "execution_count": 34,
   "metadata": {},
   "outputs": [
    {
     "data": {
      "image/png": "[encoded data removed]",
      "text/plain": [
       "<Figure size 237.6x146.845 with 1 Axes>"
      ]
     },
     "metadata": {
      "needs_background": "light"
     },
     "output_type": "display_data"
    }
   ],
   "source": [
    "fig, ax = plt.subplots()\n",
    "iteration = 20\n",
    "ax.scatter(train_data.lat, train_data.lon, alpha=0.1, label='ALL')\n",
    "ax.scatter(train_data.loc[A_ind_MI[:iteration]]['lat'], train_data.loc[A_ind_MI[:iteration]]['lon'], label='MI')\n",
    "ax.scatter(train_data.loc[A_ind_Var[:iteration]]['lat'], train_data.loc[A_ind_Var[:iteration]]['lon'], label='Entropy')\n",
    "ax.legend(bbox_to_anchor=(1,0.5))\n",
    "plt.tight_layout()\n",
    "plt.show()"
   ]
  },
  {
   "cell_type": "markdown",
   "metadata": {},
   "source": [
    "## RMSE Plot"
   ]
  },
  {
   "cell_type": "code",
   "execution_count": 35,
   "metadata": {
    "scrolled": true
   },
   "outputs": [
    {
     "name": "stdout",
     "output_type": "stream",
     "text": [
      "5 29\n"
     ]
    }
   ],
   "source": [
    "Eta = 100\n",
    "NN = lambda x: len(x)//2\n",
    "Pilot_ind = []\n",
    "MI_rms = np.zeros((len(MI), len(test_data.index.unique()[::8])))\n",
    "Var_rms = np.zeros((len(Var), len(test_data.index.unique()[::8])))\n",
    "for iter_i, epoch_id in enumerate(test_data.index.unique()[::8]):\n",
    "    for sens_i in range(len(MI)):\n",
    "        clear_output(wait=True)\n",
    "        print(iter_i, sens_i)\n",
    "        test_tmp = test_data.loc[epoch_id].set_index('lat-lon').reset_index(drop=True)\n",
    "        # Predict and save RMSE\n",
    "        \n",
    "        # For Variance based locations ------------------\n",
    "\n",
    "        GP_train_X = test_tmp.loc[A_ind_Var[:sens_i]+Pilot_ind][['lat','lon']].values\n",
    "        GP_train_Y = test_tmp.loc[A_ind_Var[:sens_i]+Pilot_ind][['data']].values\n",
    "        GP_test_X = test_tmp.drop(A_ind_Var[:sens_i]+Pilot_ind, axis=0)[['lat','lon']].values\n",
    "        GP_test_Y = test_tmp.drop(A_ind_Var[:sens_i]+Pilot_ind, axis=0)[['data']].values\n",
    "        GP_Gamma = G_test.loc[A_ind_Var[:sens_i]+Pilot_ind, A_ind_Var[:sens_i]+Pilot_ind].values\n",
    "        \n",
    "        m = NottDuns(NN(GP_train_X), Eta, 'm32')\n",
    "        m.fit(GP_train_X, GP_train_Y, GP_Gamma)\n",
    "        GP_predict_Y = m.predict(GP_test_X)\n",
    "        #GP_predict_Y = 18 + cov_func(GP_test_X, GP_train_X).dot(np.linalg.pinv(cov_func(GP_train_X, GP_train_X))).dot(GP_train_Y - GP_train_Y.mean())\n",
    "        error = GP_test_Y - GP_predict_Y\n",
    "        rms = np.sqrt(np.mean(error**2))\n",
    "        Var_rms[sens_i, iter_i] = rms\n",
    "        \n",
    "        # For MI based locations ------------------\n",
    "        GP_train_X = test_tmp.loc[A_ind_MI[:sens_i]+Pilot_ind][['lat','lon']].values \n",
    "        GP_train_Y = test_tmp.loc[A_ind_MI[:sens_i]+Pilot_ind][['data']].values\n",
    "        GP_test_X = test_tmp.drop(A_ind_MI[:sens_i]+Pilot_ind, axis=0)[['lat','lon']].values\n",
    "        GP_test_Y = test_tmp.drop(A_ind_MI[:sens_i]+Pilot_ind, axis=0)[['data']].values\n",
    "        GP_Gamma = G_test.loc[A_ind_MI[:sens_i]+Pilot_ind, A_ind_MI[:sens_i]+Pilot_ind].values\n",
    "        m = NottDuns(NN(GP_train_X), Eta, 'm32')\n",
    "        m.fit(GP_train_X, GP_train_Y, GP_Gamma)\n",
    "        GP_predict_Y = m.predict(GP_test_X)\n",
    "        #GP_predict_Y = 18 + cov_func(GP_test_X, GP_train_X).dot(np.linalg.pinv(cov_func(GP_train_X, GP_train_X))).dot(GP_train_Y - GP_train_Y.mean())\n",
    "        error = GP_test_Y - GP_predict_Y\n",
    "        rms = np.sqrt(np.mean(error**2))\n",
    "        MI_rms[sens_i, iter_i] = rms"
   ]
  },
  {
   "cell_type": "code",
   "execution_count": 36,
   "metadata": {
    "scrolled": true
   },
   "outputs": [
    {
     "data": {
      "image/png": "[encoded data removed]",
      "text/plain": [
       "<Figure size 237.6x146.845 with 1 Axes>"
      ]
     },
     "metadata": {
      "needs_background": "light"
     },
     "output_type": "display_data"
    }
   ],
   "source": [
    "MM = 3\n",
    "\n",
    "MI_rms_mean_NS = MI_rms[:,0]#.mean(axis=1)\n",
    "Var_rms_mean_NS = Var_rms[:,0]#.mean(axis=1)\n",
    "\n",
    "fig, ax = plt.subplots()\n",
    "tmp = ax.plot(range(len(MI_rms_mean_NS)), MI_rms_mean_NS, 'go-', label='MI', markersize=MM)\n",
    "\n",
    "tmp = ax.plot(range(len(Var_rms_mean_NS)), Var_rms_mean_NS, 'ro-', label='Entropy', markersize=MM)\n",
    "ax.set_xlabel('Number of sensors\\n(a) NS kernel')\n",
    "ax.set_ylabel('RMSE\\n(Lower is better)')\n",
    "ax.legend()\n",
    "plt.tight_layout()\n",
    "plt.show()"
   ]
  },
  {
   "cell_type": "markdown",
   "metadata": {},
   "source": [
    "## Learning stationary kernel"
   ]
  },
  {
   "cell_type": "code",
   "execution_count": 37,
   "metadata": {},
   "outputs": [
    {
     "name": "stdout",
     "output_type": "stream",
     "text": [
      "(30, 3) (30, 30)\n",
      "Optimization restart 1/1, f = 64.75646983652577\n"
     ]
    }
   ],
   "source": [
    "Seed = 42\n",
    "train_sample = train_data.sample(30, random_state=Seed)\n",
    "G = G_train.loc[train_sample.index, train_sample.index]\n",
    "print(train_sample.shape, G.shape)\n",
    "\n",
    "X_train = train_sample[['lat','lon']].values\n",
    "y_train = train_sample[['data']].values.reshape(-1,1)\n",
    "\n",
    "\n",
    "Stat = Stationary(n_restarts=1, kernel_name='m32')\n",
    "Stat.fit(X_train, y_train)"
   ]
  },
  {
   "cell_type": "markdown",
   "metadata": {},
   "source": [
    "## Greedy placement"
   ]
  },
  {
   "cell_type": "code",
   "execution_count": 38,
   "metadata": {},
   "outputs": [],
   "source": [
    "N = 30\n",
    "Pilot_ind = train_sample.index.tolist()\n",
    "A_ind_MI, _ = Stat.place(train_data[['lat', 'lon']].values, Pilot_ind, N, 'MI')\n",
    "A_ind_Var, _ = Stat.place(train_data[['lat', 'lon']].values, Pilot_ind, N, 'Entropy')\n",
    "MI = Stat.MI\n",
    "Var = Stat.Var"
   ]
  },
  {
   "cell_type": "markdown",
   "metadata": {},
   "source": [
    "## RMSE plot"
   ]
  },
  {
   "cell_type": "code",
   "execution_count": 39,
   "metadata": {
    "scrolled": true
   },
   "outputs": [
    {
     "name": "stdout",
     "output_type": "stream",
     "text": [
      "5 29\n",
      "Optimization restart 1/1, f = 153.39097691420446\n",
      "Optimization restart 1/1, f = 133.19868986208542\n"
     ]
    }
   ],
   "source": [
    "Gran = 8\n",
    "MI_rms1 = np.zeros((len(MI), len(test_data.index.unique()[::Gran])))\n",
    "Var_rms1 = np.zeros((len(Var), len(test_data.index.unique()[::Gran])))\n",
    "for iter_i, epoch_id in enumerate(test_data.index.unique()[::Gran]):\n",
    "    for sens_i in range(len(MI)):\n",
    "        clear_output(wait=True)\n",
    "        print(iter_i, sens_i)\n",
    "        test_tmp = test_data.loc[epoch_id].set_index('lat-lon').reset_index(drop=True)\n",
    "        # Predict and save RMSE\n",
    "        \n",
    "        # For Variance based locations ------------------\n",
    "\n",
    "        GP_train_X = test_tmp.loc[A_ind_Var[:sens_i]+Pilot_ind][['lat','lon']].values\n",
    "        GP_train_Y = test_tmp.loc[A_ind_Var[:sens_i]+Pilot_ind]['data'].values.reshape(-1,1)\n",
    "        GP_test_X = test_tmp.drop(A_ind_Var[:sens_i]+Pilot_ind, axis=0)[['lat','lon']].values\n",
    "        GP_test_Y = test_tmp.drop(A_ind_Var[:sens_i]+Pilot_ind, axis=0)['data'].values.reshape(-1,1)\n",
    "\n",
    "        Stat = Stationary(1, 'm32', True)\n",
    "        Stat.fit(GP_train_X, GP_train_Y)\n",
    "        GP_predict_Y = Stat.predict(GP_test_X)\n",
    "        error = GP_test_Y - GP_predict_Y\n",
    "        rms = np.sqrt(np.mean(error**2))\n",
    "        Var_rms1[sens_i, iter_i] = rms\n",
    "        \n",
    "        # For MI based locations ------------------\n",
    "        GP_train_X = test_tmp.loc[A_ind_MI[:sens_i]+Pilot_ind][['lat','lon']].values \n",
    "        GP_train_Y = test_tmp.loc[A_ind_MI[:sens_i]+Pilot_ind]['data'].values.reshape(-1,1)\n",
    "        GP_test_X = test_tmp.drop(A_ind_MI[:sens_i]+Pilot_ind, axis=0)[['lat','lon']].values\n",
    "        GP_test_Y = test_tmp.drop(A_ind_MI[:sens_i]+Pilot_ind, axis=0)['data'].values.reshape(-1,1)\n",
    "\n",
    "        Stat = Stationary(1, 'm32', True)\n",
    "        Stat.fit(GP_train_X, GP_train_Y)\n",
    "        GP_predict_Y = Stat.predict(GP_test_X)\n",
    "\n",
    "        error = GP_test_Y - GP_predict_Y\n",
    "        rms = np.sqrt(np.mean(error**2))\n",
    "        MI_rms1[sens_i, iter_i] = rms"
   ]
  },
  {
   "cell_type": "code",
   "execution_count": 40,
   "metadata": {},
   "outputs": [],
   "source": [
    "import matplotlib.pyplot as plt\n",
    "import numpy as np\n",
    "import pandas as pd\n",
    "import matplotlib\n",
    "from math import sqrt\n",
    "SPINE_COLOR = 'gray'\n",
    "def latexify(fig_width=None, fig_height=None, columns=1):\n",
    "    \"\"\"Set up matplotlib's RC params for LaTeX plotting.\n",
    "    Call this before plotting a figure.\n",
    "\n",
    "    Parameters\n",
    "    ----------\n",
    "    fig_width : float, optional, inches\n",
    "    fig_height : float,  optional, inches\n",
    "    columns : {1, 2}\n",
    "    \"\"\"\n",
    "\n",
    "    # code adapted from http://www.scipy.org/Cookbook/Matplotlib/LaTeX_Examples\n",
    "\n",
    "    # Width and max height in inches for IEEE journals taken from\n",
    "    # computer.org/cms/Computer.org/Journal%20templates/transactions_art_guide.pdf\n",
    "\n",
    "    assert(columns in [1,2])\n",
    "\n",
    "    if fig_width is None:\n",
    "        fig_width = 3.39 if columns==1 else 6.9 # width in inches\n",
    "\n",
    "    if fig_height is None:\n",
    "        golden_mean = (sqrt(5)-1.0)/2.0    # Aesthetic ratio\n",
    "        fig_height = fig_width*golden_mean # height in inches\n",
    "\n",
    "    MAX_HEIGHT_INCHES = 8.0\n",
    "    if fig_height > MAX_HEIGHT_INCHES:\n",
    "        print(\"WARNING: fig_height too large:\" + fig_height + \n",
    "              \"so will reduce to\" + MAX_HEIGHT_INCHES + \"inches.\")\n",
    "        fig_height = MAX_HEIGHT_INCHES\n",
    "\n",
    "    params = {'backend': 'ps',\n",
    "              'text.latex.preamble': [r'\\usepackage{gensymb}'],\n",
    "              'axes.labelsize': 8, # fontsize for x and y labels (was 10)\n",
    "              'axes.titlesize': 8,\n",
    "              'font.size': 8, # was 10\n",
    "              'legend.fontsize': 8, # was 10\n",
    "              'xtick.labelsize': 8,\n",
    "              'ytick.labelsize': 8,\n",
    "              'text.usetex': False,\n",
    "              'figure.figsize': [fig_width,fig_height],\n",
    "              'font.family': 'serif'\n",
    "    }\n",
    "\n",
    "    matplotlib.rcParams.update(params)\n",
    "\n",
    "\n",
    "def format_axes(ax):\n",
    "\n",
    "    for spine in ['top', 'right']:\n",
    "        ax.spines[spine].set_visible(False)\n",
    "\n",
    "    for spine in ['left', 'bottom']:\n",
    "        ax.spines[spine].set_color(SPINE_COLOR)\n",
    "        ax.spines[spine].set_linewidth(0.5)\n",
    "\n",
    "    ax.xaxis.set_ticks_position('bottom')\n",
    "    ax.yaxis.set_ticks_position('left')\n",
    "\n",
    "    for axis in [ax.xaxis, ax.yaxis]:\n",
    "        axis.set_tick_params(direction='out', color=SPINE_COLOR)\n",
    "\n",
    "    return ax"
   ]
  },
  {
   "cell_type": "code",
   "execution_count": 41,
   "metadata": {},
   "outputs": [
    {
     "data": {
      "image/png": "[encoded data removed]",
      "text/plain": [
       "<Figure size 237.6x146.845 with 1 Axes>"
      ]
     },
     "metadata": {
      "needs_background": "light"
     },
     "output_type": "display_data"
    }
   ],
   "source": [
    "MM = 3\n",
    "MI_rms_mean = MI_rms1.mean(axis=1)\n",
    "Var_rms_mean = Var_rms1.mean(axis=1)\n",
    "latexify(3.3)\n",
    "fig, ax = plt.subplots()\n",
    "format_axes(ax)\n",
    "tmp = ax.plot(range(len(MI_rms_mean)), MI_rms_mean, 'go-', label='MI', markersize=MM)\n",
    "tmp = ax.plot(range(len(Var_rms_mean)), Var_rms_mean, 'ro-', label='Entropy', markersize=MM)\n",
    "ax.set_xlabel('Number of sensors')\n",
    "ax.set_ylabel('RMSE\\n(Lower is better)')\n",
    "ax.legend()\n",
    "plt.tight_layout()\n",
    "plt.savefig('/home/anaconda/patel_zeel/figure10.pdf')\n",
    "plt.show()"
   ]
  },
  {
   "cell_type": "markdown",
   "metadata": {},
   "source": [
    "## Appendix"
   ]
  },
  {
   "cell_type": "code",
   "execution_count": null,
   "metadata": {},
   "outputs": [],
   "source": [
    "import matplotlib.pyplot as plt\n",
    "import numpy as np\n",
    "import pandas as pd\n",
    "import matplotlib\n",
    "from math import sqrt\n",
    "SPINE_COLOR = 'gray'\n",
    "def latexify(fig_width=None, fig_height=None, columns=1):\n",
    "    \"\"\"Set up matplotlib's RC params for LaTeX plotting.\n",
    "    Call this before plotting a figure.\n",
    "\n",
    "    Parameters\n",
    "    ----------\n",
    "    fig_width : float, optional, inches\n",
    "    fig_height : float,  optional, inches\n",
    "    columns : {1, 2}\n",
    "    \"\"\"\n",
    "\n",
    "    # code adapted from http://www.scipy.org/Cookbook/Matplotlib/LaTeX_Examples\n",
    "\n",
    "    # Width and max height in inches for IEEE journals taken from\n",
    "    # computer.org/cms/Computer.org/Journal%20templates/transactions_art_guide.pdf\n",
    "\n",
    "    assert(columns in [1,2])\n",
    "\n",
    "    if fig_width is None:\n",
    "        fig_width = 3.39 if columns==1 else 6.9 # width in inches\n",
    "\n",
    "    if fig_height is None:\n",
    "        golden_mean = (sqrt(5)-1.0)/2.0    # Aesthetic ratio\n",
    "        fig_height = fig_width*golden_mean # height in inches\n",
    "\n",
    "    MAX_HEIGHT_INCHES = 8.0\n",
    "    if fig_height > MAX_HEIGHT_INCHES:\n",
    "        print(\"WARNING: fig_height too large:\" + fig_height + \n",
    "              \"so will reduce to\" + MAX_HEIGHT_INCHES + \"inches.\")\n",
    "        fig_height = MAX_HEIGHT_INCHES\n",
    "\n",
    "    params = {'backend': 'ps',\n",
    "              'text.latex.preamble': [r'\\usepackage{gensymb}'],\n",
    "              'axes.labelsize': 8, # fontsize for x and y labels (was 10)\n",
    "              'axes.titlesize': 8,\n",
    "              'font.size': 8, # was 10\n",
    "              'legend.fontsize': 8, # was 10\n",
    "              'xtick.labelsize': 8,\n",
    "              'ytick.labelsize': 8,\n",
    "              'text.usetex': False,\n",
    "              'figure.figsize': [fig_width,fig_height],\n",
    "              'font.family': 'serif'\n",
    "    }\n",
    "\n",
    "    matplotlib.rcParams.update(params)\n",
    "\n",
    "\n",
    "def format_axes(ax):\n",
    "\n",
    "    for spine in ['top', 'right']:\n",
    "        ax.spines[spine].set_visible(False)\n",
    "\n",
    "    for spine in ['left', 'bottom']:\n",
    "        ax.spines[spine].set_color(SPINE_COLOR)\n",
    "        ax.spines[spine].set_linewidth(0.5)\n",
    "\n",
    "    ax.xaxis.set_ticks_position('bottom')\n",
    "    ax.yaxis.set_ticks_position('left')\n",
    "\n",
    "    for axis in [ax.xaxis, ax.yaxis]:\n",
    "        axis.set_tick_params(direction='out', color=SPINE_COLOR)\n",
    "\n",
    "    return ax"
   ]
  },
  {
   "cell_type": "code",
   "execution_count": 71,
   "metadata": {},
   "outputs": [
    {
     "data": {
      "image/png": "[encoded data removed]",
      "text/plain": [
       "<Figure size 237.6x108 with 2 Axes>"
      ]
     },
     "metadata": {
      "needs_background": "light"
     },
     "output_type": "display_data"
    }
   ],
   "source": [
    "latexify(3.3, 1.5)\n",
    "MM = 2\n",
    "\n",
    "fig, ax = plt.subplots(1, 2, sharey=True)\n",
    "tmp = ax[0].plot(range(len(MI_rms_mean_NS)), MI_rms_mean_NS, 'go-', label='MI', markersize=MM)\n",
    "\n",
    "tmp = ax[0].plot(range(len(Var_rms_mean_NS)), Var_rms_mean_NS, 'ro-', label='Entropy', markersize=MM)\n",
    "ax[0].set_xlabel('Number of sensors\\n(a) NS kernel')\n",
    "ax[0].set_ylabel('RMSE\\n(Lower is better)')\n",
    "#ax[0].legend()\n",
    "\n",
    "tmp = ax[1].plot(range(len(MI_rms_mean)), MI_rms_mean, 'go-', label='MI', markersize=MM)\n",
    "tmp = ax[1].plot(range(len(Var_rms_mean)), Var_rms_mean, 'ro-', label='Entropy', markersize=MM)\n",
    "ax[1].set_xlabel('Number of sensors\\n(a) Stationary kernel')\n",
    "#ax[1].set_ylabel('RMSE\\n(Lower is better)')\n",
    "ax[1].legend(bbox_to_anchor=(0.4,0.5))\n",
    "plt.tight_layout()\n",
    "format_axes(ax[0])\n",
    "format_axes(ax[1])\n",
    "plt.savefig('/home/anaconda/patel_zeel/figure10.pdf')\n",
    "plt.show()"
   ]
  },
  {
   "cell_type": "code",
   "execution_count": null,
   "metadata": {},
   "outputs": [],
   "source": []
  }
 ],
 "metadata": {
  "kernelspec": {
   "display_name": "Python 3",
   "language": "python",
   "name": "python3"
  },
  "language_info": {
   "codemirror_mode": {
    "name": "ipython",
    "version": 3
   },
   "file_extension": ".py",
   "mimetype": "text/x-python",
   "name": "python",
   "nbconvert_exporter": "python",
   "pygments_lexer": "ipython3",
   "version": "3.6.10"
  }
 },
 "nbformat": 4,
 "nbformat_minor": 2
}
