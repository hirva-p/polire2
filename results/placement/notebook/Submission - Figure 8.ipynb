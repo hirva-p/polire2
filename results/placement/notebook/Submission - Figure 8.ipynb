{
 "cells": [
  {
   "cell_type": "markdown",
   "metadata": {},
   "source": [
    "## Standard Imports"
   ]
  },
  {
   "cell_type": "code",
   "execution_count": 1,
   "metadata": {},
   "outputs": [],
   "source": [
    "import warnings\n",
    "warnings.filterwarnings('ignore')"
   ]
  },
  {
   "cell_type": "code",
   "execution_count": 2,
   "metadata": {},
   "outputs": [],
   "source": [
    "import pandas as pd\n",
    "import numpy as np\n",
    "from IPython.display import clear_output\n",
    "import matplotlib.pyplot as plt\n",
    "import sys\n",
    "sys.path.append(\"../../../\")\n",
    "from matplotlib.animation import FuncAnimation\n",
    "from polire.placement import NottDuns, Stationary"
   ]
  },
  {
   "cell_type": "markdown",
   "metadata": {},
   "source": [
    "## Data Loading"
   ]
  },
  {
   "cell_type": "code",
   "execution_count": 3,
   "metadata": {},
   "outputs": [
    {
     "name": "stdout",
     "output_type": "stream",
     "text": [
      "(181, 52) 181 (52, 52)\n",
      "(62, 52) 62 (52, 52)\n"
     ]
    }
   ],
   "source": [
    "tdata = pd.read_pickle('../dataset/TempData.pickle')\n",
    "tdata = tdata['2004-02-28':'2004-03-01']\n",
    "loc_df = pd.read_csv('../dataset/mote_locs.txt', sep=' ',names=[0,'X','Y']).set_index(0)\n",
    "\n",
    "M = 22\n",
    "cross_df = pd.crosstab(tdata.index, tdata.ID, tdata.Temp, aggfunc=lambda x:list(x)[0])\n",
    "cross_df = cross_df.resample(str(M)+'min').mean().dropna(how='any')\n",
    "print(cross_df.shape, len(cross_df.dropna()), cross_df.cov().dropna().shape)\n",
    "\n",
    "G_all = (((cross_df - cross_df.mean()).T).dot(cross_df - cross_df.mean())/len(cross_df)) # Estim. Cov. Mat.\n",
    "G_all_npcov = cross_df.cov()\n",
    "train_data = loc_df.loc[cross_df.columns][['X','Y']]\n",
    "train_data['Temp'] = cross_df.mean()\n",
    "\n",
    "ttdata = pd.read_pickle('../dataset/TempData.pickle')\n",
    "ttdata = ttdata['2004-03-02':'2004-03-02']\n",
    "cross_df = pd.crosstab(ttdata.index, ttdata.ID, ttdata.Temp, aggfunc=lambda x:list(x)[0])\n",
    "cross_df = cross_df.resample(str(M)+'min').mean().dropna(how='any')\n",
    "print(cross_df.shape, len(cross_df.dropna()), cross_df.cov().dropna().shape)\n",
    "\n",
    "G_all_test = (((cross_df - cross_df.mean(axis=0)).T).dot(cross_df - cross_df.mean(axis=0))/len(cross_df))\n",
    "G_all_test_npcov = cross_df.cov()\n",
    "test_data = loc_df.loc[cross_df.columns][['X','Y']]\n",
    "test_data['Temp'] = cross_df.mean()"
   ]
  },
  {
   "cell_type": "markdown",
   "metadata": {},
   "source": [
    "## Destroying ID to maintain consistency between pandas and numpy"
   ]
  },
  {
   "cell_type": "code",
   "execution_count": 4,
   "metadata": {},
   "outputs": [],
   "source": [
    "train_data = train_data.reset_index(drop=True)\n",
    "G_all = pd.DataFrame(G_all.values, index=range(len(train_data)), columns=range(len(train_data)))\n",
    "\n",
    "#train_data = train_data.iloc[:16]\n",
    "#G_all = G_all.iloc[:16, :16]\n",
    "\n",
    "test_data = test_data.reset_index(drop=True)\n",
    "G_all_test = pd.DataFrame(G_all_test.values, index=range(len(test_data)), columns=range(len(test_data)))"
   ]
  },
  {
   "cell_type": "markdown",
   "metadata": {},
   "source": [
    "## Visualize train sensor locations in the 2D space"
   ]
  },
  {
   "cell_type": "code",
   "execution_count": 5,
   "metadata": {},
   "outputs": [
    {
     "name": "stdout",
     "output_type": "stream",
     "text": [
      "(10, 3) (10, 10)\n"
     ]
    },
    {
     "data": {
      "image/png": "[encoded data removed]",
      "text/plain": [
       "<Figure size 432x288 with 1 Axes>"
      ]
     },
     "metadata": {
      "needs_background": "light"
     },
     "output_type": "display_data"
    }
   ],
   "source": [
    "Seed = 42\n",
    "train_sample = train_data.sample(10, random_state=Seed)\n",
    "G = G_all.loc[train_sample.index, train_sample.index]\n",
    "print(train_sample.shape, G.shape)\n",
    "plt.scatter(train_sample['X'], train_sample['Y'])\n",
    "\n",
    "X_train = train_sample[['X','Y']].values\n",
    "y_train = train_sample[['Temp']].values.reshape(-1,1)"
   ]
  },
  {
   "cell_type": "markdown",
   "metadata": {},
   "source": [
    "## Learning the NS kernel"
   ]
  },
  {
   "cell_type": "code",
   "execution_count": 6,
   "metadata": {},
   "outputs": [],
   "source": [
    "nonStat = NottDuns(N=5, eta=1)\n",
    "nonStat.fit(X_train, y_train, G.values)"
   ]
  },
  {
   "cell_type": "markdown",
   "metadata": {},
   "source": [
    "## Greedy algorithm for Near Optimal Sensor Placement!"
   ]
  },
  {
   "cell_type": "code",
   "execution_count": 7,
   "metadata": {
    "scrolled": true
   },
   "outputs": [],
   "source": [
    "NN = 30\n",
    "Pilot_ind = train_sample.index.tolist()\n",
    "A_ind_MI, _ = nonStat.place(train_data[['X', 'Y']].values, Pilot_ind, N=NN, method='MI')\n",
    "A_ind_Var, _ = nonStat.place(train_data[['X', 'Y']].values, Pilot_ind, N=NN, method='Entropy')\n",
    "MI = nonStat.MI\n",
    "Var = nonStat.Var"
   ]
  },
  {
   "cell_type": "markdown",
   "metadata": {},
   "source": [
    "## RMSE plot for Non-stationary interpolator"
   ]
  },
  {
   "cell_type": "code",
   "execution_count": 8,
   "metadata": {
    "scrolled": true
   },
   "outputs": [
    {
     "name": "stdout",
     "output_type": "stream",
     "text": [
      "6 29\n"
     ]
    }
   ],
   "source": [
    "Gran = 10\n",
    "Eta = 100\n",
    "NN = lambda x: max(5, len(x)//3)\n",
    "MI_rms = np.zeros((len(MI), len(cross_df.index[::Gran])))\n",
    "Var_rms = np.zeros((len(Var), len(cross_df.index[::Gran])))\n",
    "for iter_i, epoch_id in enumerate(cross_df.index[::Gran]):\n",
    "    for sens_i in range(len(MI)):\n",
    "        clear_output(wait=True)\n",
    "        print(iter_i, sens_i)\n",
    "        test_tmp = cross_df.loc[epoch_id].reset_index(drop=True)\n",
    "        #rint(test_tmp)\n",
    "        # Predict and save RMSE\n",
    "        \n",
    "        # For Variance based locations ------------------\n",
    "\n",
    "        GP_train_X = train_data.loc[A_ind_Var[:sens_i]+Pilot_ind][['X','Y']].values\n",
    "        GP_train_Y = test_tmp.loc[A_ind_Var[:sens_i]+Pilot_ind].values\n",
    "        GP_test_X = train_data.drop(A_ind_Var[:sens_i]+Pilot_ind, axis=0)[['X','Y']].values\n",
    "        GP_test_Y = test_tmp.drop(A_ind_Var[:sens_i]+Pilot_ind, axis=0).values\n",
    "\n",
    "        G_test = G_all_test.loc[A_ind_Var[:sens_i]+Pilot_ind, A_ind_Var[:sens_i]+Pilot_ind].values\n",
    "            \n",
    "        model = NottDuns(N=NN(GP_train_X), eta=Eta, kernel_name='m32')\n",
    "        model.fit(GP_train_X, GP_train_Y, G_test)\n",
    "        GP_predict_Y = model.predict(GP_test_X)\n",
    "        #GP_predict_Y = 18 + cov_func(GP_test_X, GP_train_X).dot(np.linalg.pinv(cov_func(GP_train_X, GP_train_X))).dot(GP_train_Y - GP_train_Y.mean())\n",
    "        error = GP_test_Y - GP_predict_Y\n",
    "        rms = np.sqrt(np.mean(error**2))\n",
    "        Var_rms[sens_i, iter_i] = rms\n",
    "        \n",
    "        # For MI based locations ------------------\n",
    "        GP_train_X = train_data.loc[A_ind_MI[:sens_i]+Pilot_ind][['X','Y']].values \n",
    "        GP_train_Y = test_tmp.loc[A_ind_MI[:sens_i]+Pilot_ind].values\n",
    "        GP_test_X = train_data.drop(A_ind_MI[:sens_i]+Pilot_ind, axis=0)[['X','Y']].values\n",
    "        GP_test_Y = test_tmp.drop(A_ind_MI[:sens_i]+Pilot_ind, axis=0).values\n",
    "\n",
    "        G_test = G_all_test.loc[A_ind_MI[:sens_i]+Pilot_ind, A_ind_MI[:sens_i]+Pilot_ind].values\n",
    "        \n",
    "        model = NottDuns(N=NN(GP_train_X), eta=Eta, kernel_name='m32')\n",
    "        model.fit(GP_train_X, GP_train_Y, G_test)\n",
    "        GP_predict_Y = model.predict(GP_test_X)\n",
    "        #GP_predict_Y = 18 + cov_func(GP_test_X, GP_train_X).dot(np.linalg.pinv(cov_func(GP_train_X, GP_train_X))).dot(GP_train_Y - GP_train_Y.mean())\n",
    "        error = GP_test_Y - GP_predict_Y\n",
    "        rms = np.sqrt(np.mean(error**2))\n",
    "        MI_rms[sens_i, iter_i] = rms"
   ]
  },
  {
   "cell_type": "code",
   "execution_count": 9,
   "metadata": {},
   "outputs": [
    {
     "data": {
      "image/png": "[encoded data removed]",
      "text/plain": [
       "<Figure size 432x288 with 1 Axes>"
      ]
     },
     "metadata": {
      "needs_background": "light"
     },
     "output_type": "display_data"
    }
   ],
   "source": [
    "MM = 3\n",
    "MI_rms_mean_NS = MI_rms.mean(axis=1)\n",
    "Var_rms_mean_NS = Var_rms.mean(axis=1)\n",
    "\n",
    "fig, ax = plt.subplots()\n",
    "tmp = ax.plot(range(len(MI_rms_mean_NS)), MI_rms_mean_NS, 'go-', label='MI', markersize=MM)\n",
    "\n",
    "tmp = ax.plot(range(len(Var_rms_mean_NS)), Var_rms_mean_NS, 'ro-', label='Entropy', markersize=MM)\n",
    "\n",
    "ax.set_xlabel('Number of sensors\\n(a) NS kernel')\n",
    "ax.set_ylabel('RMSE\\n(Lower is better)')\n",
    "ax.legend()\n",
    "plt.tight_layout()\n",
    "plt.show()"
   ]
  },
  {
   "cell_type": "markdown",
   "metadata": {},
   "source": [
    "## Learning the stationary model"
   ]
  },
  {
   "cell_type": "code",
   "execution_count": 10,
   "metadata": {},
   "outputs": [
    {
     "name": "stdout",
     "output_type": "stream",
     "text": [
      "Optimization restart 1/1, f = 18.319878301954546\n"
     ]
    }
   ],
   "source": [
    "Stat = Stationary(1,'m32',True)\n",
    "Stat.fit(X_train, y_train)"
   ]
  },
  {
   "cell_type": "markdown",
   "metadata": {},
   "source": [
    "## Greedy placement"
   ]
  },
  {
   "cell_type": "code",
   "execution_count": 11,
   "metadata": {},
   "outputs": [],
   "source": [
    "NN = 30\n",
    "Pilot_ind = train_sample.index.tolist()\n",
    "A_ind_MI, _ = Stat.place(train_data[['X', 'Y']].values, Pilot_ind, N=NN, method='MI')\n",
    "A_ind_Var, _ = Stat.place(train_data[['X', 'Y']].values, Pilot_ind, N=NN, method='Entropy')\n",
    "MI = Stat.MI\n",
    "Var = Stat.Var"
   ]
  },
  {
   "cell_type": "markdown",
   "metadata": {},
   "source": [
    "## RMSE plot"
   ]
  },
  {
   "cell_type": "code",
   "execution_count": 12,
   "metadata": {},
   "outputs": [
    {
     "name": "stdout",
     "output_type": "stream",
     "text": [
      "6 29\n",
      "Optimization restart 1/1, f = 38.30797539679621\n",
      "Optimization restart 1/1, f = 31.885827617263015\n"
     ]
    }
   ],
   "source": [
    "Gran = 10\n",
    "MI_rms = np.zeros((len(MI), len(cross_df.index[::Gran])))\n",
    "Var_rms = np.zeros((len(Var), len(cross_df.index[::Gran])))\n",
    "for iter_i, epoch_id in enumerate(cross_df.index[::Gran]):\n",
    "    for sens_i in range(len(MI)):\n",
    "        clear_output(wait=True)\n",
    "        print(iter_i, sens_i)\n",
    "        test_tmp = cross_df.loc[epoch_id].reset_index(drop=True)\n",
    "        # Predict and save RMSE\n",
    "        \n",
    "        # For Variance based locations ------------------\n",
    "\n",
    "        GP_train_X = train_data.loc[A_ind_Var[:sens_i]+Pilot_ind][['X','Y']].values\n",
    "        GP_train_Y = test_tmp.loc[A_ind_Var[:sens_i]+Pilot_ind].values.reshape(-1,1)\n",
    "        GP_test_X = train_data.drop(A_ind_Var[:sens_i]+Pilot_ind, axis=0)[['X','Y']].values\n",
    "        GP_test_Y = test_tmp.drop(A_ind_Var[:sens_i]+Pilot_ind, axis=0).values.reshape(-1,1)\n",
    "\n",
    "        Stat = Stationary(1, 'm32', True)\n",
    "        Stat.fit(GP_train_X, GP_train_Y)\n",
    "        GP_predict_Y = Stat.predict(GP_test_X)\n",
    "        error = GP_test_Y - GP_predict_Y\n",
    "        rms = np.sqrt(np.mean(error**2))\n",
    "        Var_rms[sens_i, iter_i] = rms\n",
    "        \n",
    "        # For MI based locations ------------------\n",
    "        GP_train_X = train_data.loc[A_ind_MI[:sens_i]+Pilot_ind][['X','Y']].values \n",
    "        GP_train_Y = test_tmp.loc[A_ind_MI[:sens_i]+Pilot_ind].values.reshape(-1,1)\n",
    "        GP_test_X = train_data.drop(A_ind_MI[:sens_i]+Pilot_ind, axis=0)[['X','Y']].values\n",
    "        GP_test_Y = test_tmp.drop(A_ind_MI[:sens_i]+Pilot_ind, axis=0).values.reshape(-1,1)\n",
    "\n",
    "        Stat = Stationary(1, 'm32', True)\n",
    "        Stat.fit(GP_train_X, GP_train_Y)\n",
    "        GP_predict_Y = Stat.predict(GP_test_X)\n",
    "\n",
    "        error = GP_test_Y - GP_predict_Y\n",
    "        rms = np.sqrt(np.mean(error**2))\n",
    "        MI_rms[sens_i, iter_i] = rms"
   ]
  },
  {
   "cell_type": "code",
   "execution_count": 13,
   "metadata": {},
   "outputs": [
    {
     "data": {
      "image/png": "[encoded data removed]",
      "text/plain": [
       "<Figure size 432x288 with 1 Axes>"
      ]
     },
     "metadata": {
      "needs_background": "light"
     },
     "output_type": "display_data"
    }
   ],
   "source": [
    "MM = 3\n",
    "MI_rms_mean = MI_rms.mean(axis=1)\n",
    "Var_rms_mean = Var_rms.mean(axis=1)\n",
    "\n",
    "fig, ax = plt.subplots()\n",
    "tmp = ax.plot(range(len(MI_rms_mean)), MI_rms_mean, 'go-', label='MI', markersize=MM)\n",
    "tmp = ax.plot(range(len(Var_rms_mean)), Var_rms_mean, 'ro-', label='Entropy', markersize=MM)\n",
    "ax.set_xlabel('Number of sensors')\n",
    "ax.set_ylabel('RMSE\\n(Lower is better)')\n",
    "ax.legend()\n",
    "plt.tight_layout()\n",
    "plt.show()"
   ]
  },
  {
   "cell_type": "markdown",
   "metadata": {},
   "source": [
    "## Appendix"
   ]
  },
  {
   "cell_type": "code",
   "execution_count": 14,
   "metadata": {},
   "outputs": [],
   "source": [
    "import matplotlib.pyplot as plt\n",
    "import numpy as np\n",
    "import pandas as pd\n",
    "import matplotlib\n",
    "from math import sqrt\n",
    "SPINE_COLOR = 'gray'\n",
    "def latexify(fig_width=None, fig_height=None, columns=1):\n",
    "    \"\"\"Set up matplotlib's RC params for LaTeX plotting.\n",
    "    Call this before plotting a figure.\n",
    "\n",
    "    Parameters\n",
    "    ----------\n",
    "    fig_width : float, optional, inches\n",
    "    fig_height : float,  optional, inches\n",
    "    columns : {1, 2}\n",
    "    \"\"\"\n",
    "\n",
    "    # code adapted from http://www.scipy.org/Cookbook/Matplotlib/LaTeX_Examples\n",
    "\n",
    "    # Width and max height in inches for IEEE journals taken from\n",
    "    # computer.org/cms/Computer.org/Journal%20templates/transactions_art_guide.pdf\n",
    "\n",
    "    assert(columns in [1,2])\n",
    "\n",
    "    if fig_width is None:\n",
    "        fig_width = 3.39 if columns==1 else 6.9 # width in inches\n",
    "\n",
    "    if fig_height is None:\n",
    "        golden_mean = (sqrt(5)-1.0)/2.0    # Aesthetic ratio\n",
    "        fig_height = fig_width*golden_mean # height in inches\n",
    "\n",
    "    MAX_HEIGHT_INCHES = 8.0\n",
    "    if fig_height > MAX_HEIGHT_INCHES:\n",
    "        print(\"WARNING: fig_height too large:\" + fig_height + \n",
    "              \"so will reduce to\" + MAX_HEIGHT_INCHES + \"inches.\")\n",
    "        fig_height = MAX_HEIGHT_INCHES\n",
    "\n",
    "    params = {'backend': 'ps',\n",
    "              'text.latex.preamble': [r'\\usepackage{gensymb}'],\n",
    "              'axes.labelsize': 8, # fontsize for x and y labels (was 10)\n",
    "              'axes.titlesize': 8,\n",
    "              'font.size': 8, # was 10\n",
    "              'legend.fontsize': 8, # was 10\n",
    "              'xtick.labelsize': 8,\n",
    "              'ytick.labelsize': 8,\n",
    "              'text.usetex': False,\n",
    "              'figure.figsize': [fig_width,fig_height],\n",
    "              'font.family': 'serif'\n",
    "    }\n",
    "\n",
    "    matplotlib.rcParams.update(params)\n",
    "\n",
    "\n",
    "def format_axes(ax):\n",
    "\n",
    "    for spine in ['top', 'right']:\n",
    "        ax.spines[spine].set_visible(False)\n",
    "\n",
    "    for spine in ['left', 'bottom']:\n",
    "        ax.spines[spine].set_color(SPINE_COLOR)\n",
    "        ax.spines[spine].set_linewidth(0.5)\n",
    "\n",
    "    ax.xaxis.set_ticks_position('bottom')\n",
    "    ax.yaxis.set_ticks_position('left')\n",
    "\n",
    "    for axis in [ax.xaxis, ax.yaxis]:\n",
    "        axis.set_tick_params(direction='out', color=SPINE_COLOR)\n",
    "\n",
    "    return ax"
   ]
  },
  {
   "cell_type": "code",
   "execution_count": 24,
   "metadata": {},
   "outputs": [
    {
     "data": {
      "image/png": "[encoded data removed]",
      "text/plain": [
       "<Figure size 237.6x108 with 2 Axes>"
      ]
     },
     "metadata": {
      "needs_background": "light"
     },
     "output_type": "display_data"
    }
   ],
   "source": [
    "latexify(3.3, 1.5)\n",
    "MM = 2\n",
    "\n",
    "fig, ax = plt.subplots(1, 2, sharey=True)\n",
    "tmp = ax[0].plot(range(len(MI_rms_mean_NS)), MI_rms_mean_NS, 'go-', label='MI', markersize=MM)\n",
    "\n",
    "tmp = ax[0].plot(range(len(Var_rms_mean_NS)), Var_rms_mean_NS, 'ro-', label='Entropy', markersize=MM)\n",
    "ax[0].set_xlabel('Number of sensors\\n(a) NS kernel')\n",
    "ax[0].set_ylabel('RMSE\\n(Lower is better)')\n",
    "#ax[0].legend()\n",
    "\n",
    "tmp = ax[1].plot(range(len(MI_rms_mean)), MI_rms_mean, 'go-', label='MI', markersize=MM)\n",
    "tmp = ax[1].plot(range(len(Var_rms_mean)), Var_rms_mean, 'ro-', label='Entropy', markersize=MM)\n",
    "ax[1].set_xlabel('Number of sensors\\n(a) Stationary kernel')\n",
    "#ax[1].set_ylabel('RMSE\\n(Lower is better)')\n",
    "ax[1].legend(bbox_to_anchor=(0.5,0.5))\n",
    "plt.tight_layout()\n",
    "format_axes(ax[0])\n",
    "format_axes(ax[1])\n",
    "plt.savefig('/home/anaconda/patel_zeel/figure8.pdf')\n",
    "plt.show()"
   ]
  },
  {
   "cell_type": "code",
   "execution_count": null,
   "metadata": {},
   "outputs": [],
   "source": []
  }
 ],
 "metadata": {
  "kernelspec": {
   "display_name": "Python 3",
   "language": "python",
   "name": "python3"
  },
  "language_info": {
   "codemirror_mode": {
    "name": "ipython",
    "version": 3
   },
   "file_extension": ".py",
   "mimetype": "text/x-python",
   "name": "python",
   "nbconvert_exporter": "python",
   "pygments_lexer": "ipython3",
   "version": "3.6.10"
  }
 },
 "nbformat": 4,
 "nbformat_minor": 2
}
