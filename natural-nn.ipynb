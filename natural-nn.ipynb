{
 "cells": [
  {
   "cell_type": "code",
   "execution_count": 1,
   "metadata": {},
   "outputs": [
    {
     "name": "stdout",
     "output_type": "stream",
     "text": [
      "\n",
      "Testing Pointwise Interpolation\n",
      "[1.5 1.5]\n",
      "Can't interpolate because of unbounded Voronoipartition\n",
      "None\n"
     ]
    }
   ],
   "source": [
    "# imports\n",
    "import seaborn as sns\n",
    "import matplotlib.pyplot as plt\n",
    "import numpy as np\n",
    "\n",
    "# from polire.random.random import Random\n",
    "# from polire.trend.trend import Trend\n",
    "# from polire.spline.bspline import BSpline\n",
    "# from polire.idw.idw import Idw\n",
    "from polire.natural_neighbors.natural_neighbors import Natural_neighbor\n",
    "# sample data\n",
    "X =  [[0, 0], [0, 3], [1.5,4.5], [3, 0], [3, 3]]\n",
    "y = [0, 1.5, 1.5, 3]\n",
    "X = np.array(X)\n",
    "y = np.array(y)\n",
    "\n",
    "def test_grid():\n",
    "    # Gridded interpolation testing\n",
    "    for r in [Random(), BSpline(kx=1, ky=1), Trend(), Idw()]:\n",
    "        r.fit(X, y)\n",
    "        y_pred = r.predict_grid((0, 3), (0, 3))\n",
    "        Z = y_pred\n",
    "        sns.heatmap(Z)\n",
    "        plt.title(r.__class__)\n",
    "        plt.show()\n",
    "        plt.close()\n",
    "def test_point():\n",
    "    # Pointwise interpolation testing\n",
    "    # for r in [Random(), BSpline(kx=1, ky=1), Trend(), Idw()]:\n",
    "    #     r.fit(X,y)\n",
    "    #     test_data = [[0,0],[0,3],[3,0],[3,3],[1,1],[1.5,1.5],[2,2],[2.5,2.5],[4,4]]\n",
    "    #     y_pred = r.predict(np.array(test_data))\n",
    "    #     print(r.__class__)\n",
    "    #     print(y_pred)\n",
    "\n",
    "    nn = Natural_neighbor()\n",
    "    nn.fit(X,y)\n",
    "    test_data = [[1.5,1.5],[0,3]]\n",
    "    y_pred = nn.predict(np.array(test_data))\n",
    "#     print(r.__class__)\n",
    "    print(y_pred)\n",
    "if __name__=='__main__':\n",
    "    # print(\"Testing Gridded Interpolation\")\n",
    "    # test_grid()\n",
    "    print(\"\\nTesting Pointwise Interpolation\")\n",
    "    test_point()"
   ]
  },
  {
   "cell_type": "code",
   "execution_count": null,
   "metadata": {},
   "outputs": [],
   "source": [
    "X = [[0, 0], [0, 3], [1.5,4.5], [3, 0], [3, 3]]\n",
    "y = [0, 1.5, 1.5, 3]\n"
   ]
  },
  {
   "cell_type": "code",
   "execution_count": null,
   "metadata": {},
   "outputs": [],
   "source": [
    "from scipy.spatial import Voronoi, voronoi_plot_2d\n",
    "v = Voronoi(X, incremental=True)"
   ]
  },
  {
   "cell_type": "code",
   "execution_count": null,
   "metadata": {},
   "outputs": [],
   "source": [
    "b = v"
   ]
  },
  {
   "cell_type": "code",
   "execution_count": null,
   "metadata": {},
   "outputs": [],
   "source": [
    "voronoi_plot_2d(v)\n",
    "plt.show()"
   ]
  },
  {
   "cell_type": "code",
   "execution_count": null,
   "metadata": {},
   "outputs": [],
   "source": [
    "v.add_points(np.array([[1.5,1.5]]))"
   ]
  },
  {
   "cell_type": "code",
   "execution_count": null,
   "metadata": {},
   "outputs": [],
   "source": [
    "voronoi_plot_2d(b)\n",
    "plt.show()"
   ]
  },
  {
   "cell_type": "code",
   "execution_count": null,
   "metadata": {},
   "outputs": [],
   "source": [
    "voronoi_plot_2d(v)"
   ]
  },
  {
   "cell_type": "code",
   "execution_count": null,
   "metadata": {},
   "outputs": [],
   "source": [
    "from copy import deepcopy\n",
    "a = deepcopy(v)"
   ]
  },
  {
   "cell_type": "code",
   "execution_count": null,
   "metadata": {},
   "outputs": [],
   "source": [
    "b = v"
   ]
  },
  {
   "cell_type": "code",
   "execution_count": null,
   "metadata": {},
   "outputs": [],
   "source": []
  }
 ],
 "metadata": {
  "kernelspec": {
   "display_name": "Python 3",
   "language": "python",
   "name": "python3"
  },
  "language_info": {
   "codemirror_mode": {
    "name": "ipython",
    "version": 3
   },
   "file_extension": ".py",
   "mimetype": "text/x-python",
   "name": "python",
   "nbconvert_exporter": "python",
   "pygments_lexer": "ipython3",
   "version": "3.6.8"
  }
 },
 "nbformat": 4,
 "nbformat_minor": 2
}
